{
  "nbformat": 4,
  "nbformat_minor": 0,
  "metadata": {
    "colab": {
      "name": "Concatenating Strings.ipynb",
      "provenance": [],
      "authorship_tag": "ABX9TyNSNsdcYQmHVTs7oaC0wB18",
      "include_colab_link": true
    },
    "kernelspec": {
      "name": "python3",
      "display_name": "Python 3"
    }
  },
  "cells": [
    {
      "cell_type": "markdown",
      "metadata": {
        "id": "view-in-github",
        "colab_type": "text"
      },
      "source": [
        "<a href=\"https://colab.research.google.com/github/pythoncoder100/practice/blob/master/Concatenating_Strings.ipynb\" target=\"_parent\"><img src=\"https://colab.research.google.com/assets/colab-badge.svg\" alt=\"Open In Colab\"/></a>"
      ]
    },
    {
      "cell_type": "code",
      "metadata": {
        "id": "-Ffo1a3cl3P5"
      },
      "source": [
        "str1=\"This is the first string\"\r\n",
        "str2=\"This is the second string\"\r\n",
        "str3=str1+\" and \"+str2\r\n",
        "print(str3)"
      ],
      "execution_count": null,
      "outputs": []
    }
  ]
}