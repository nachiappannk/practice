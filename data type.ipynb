{
  "nbformat": 4,
  "nbformat_minor": 0,
  "metadata": {
    "colab": {
      "name": "Copy of Untitled121.ipynb",
      "provenance": [],
      "authorship_tag": "ABX9TyOfZ0OpUSIYZK8v0AcoRO1Q",
      "include_colab_link": true
    },
    "kernelspec": {
      "name": "python3",
      "display_name": "Python 3"
    }
  },
  "cells": [
    {
      "cell_type": "markdown",
      "metadata": {
        "id": "view-in-github",
        "colab_type": "text"
      },
      "source": [
        "<a href=\"https://colab.research.google.com/github/pythoncoder100/practice/blob/master/data%20type.ipynb\" target=\"_parent\"><img src=\"https://colab.research.google.com/assets/colab-badge.svg\" alt=\"Open In Colab\"/></a>"
      ]
    },
    {
      "cell_type": "code",
      "metadata": {
        "colab": {
          "base_uri": "https://localhost:8080/"
        },
        "id": "YMzqce-XBjS3",
        "outputId": "0f69707b-ead4-44f8-92d2-84142455261a"
      },
      "source": [
        "#python numbers are int,float, complex\r\n",
        "a=4\r\n",
        "type(a)\r\n",
        "print(a)\r\n",
        "id(a)"
      ],
      "execution_count": 23,
      "outputs": [
        {
          "output_type": "stream",
          "text": [
            "4\n"
          ],
          "name": "stdout"
        },
        {
          "output_type": "execute_result",
          "data": {
            "text/plain": [
              "94345064655456"
            ]
          },
          "metadata": {
            "tags": []
          },
          "execution_count": 23
        }
      ]
    },
    {
      "cell_type": "code",
      "metadata": {
        "colab": {
          "base_uri": "https://localhost:8080/"
        },
        "id": "YD4Ml9JAB2z2",
        "outputId": "b2ec7fe5-bb86-4bb6-e410-98779412ae50"
      },
      "source": [
        "b=float(4)\r\n",
        "type(b)\r\n",
        "print(b)"
      ],
      "execution_count": 24,
      "outputs": [
        {
          "output_type": "stream",
          "text": [
            "4.0\n"
          ],
          "name": "stdout"
        }
      ]
    },
    {
      "cell_type": "code",
      "metadata": {
        "colab": {
          "base_uri": "https://localhost:8080/"
        },
        "id": "9ZxRWu8qB5sc",
        "outputId": "1b689990-7476-4947-9fd5-452dfd87aa1e"
      },
      "source": [
        "c=int(4.2)\r\n",
        "type(c)\r\n",
        "print(c)"
      ],
      "execution_count": 25,
      "outputs": [
        {
          "output_type": "stream",
          "text": [
            "4\n"
          ],
          "name": "stdout"
        }
      ]
    },
    {
      "cell_type": "code",
      "metadata": {
        "colab": {
          "base_uri": "https://localhost:8080/"
        },
        "id": "TBeyEVFeB8cy",
        "outputId": "36165837-df72-498d-b0f8-d6454ddaf0fd"
      },
      "source": [
        "import cmath\r\n",
        "x = 5\r\n",
        "y = 3\r\n",
        "# converting x and y into complex number \r\n",
        "z1 = complex(x,y); \r\n",
        "z2 = 2 + 4j\r\n",
        "print(z1+z2)\r\n",
        "print(z1.real)\r\n",
        "print(z1.imag)\r\n",
        "type(z1)\r\n",
        "print(z1*z2)\r\n",
        "print (cmath.phase(0.707+0.707j)) #45 degress in radians\r\n",
        "\r\n",
        "\r\n",
        "\r\n"
      ],
      "execution_count": 26,
      "outputs": [
        {
          "output_type": "stream",
          "text": [
            "(7+7j)\n",
            "5.0\n",
            "3.0\n",
            "(-2+26j)\n",
            "0.7853981633974483\n"
          ],
          "name": "stdout"
        }
      ]
    },
    {
      "cell_type": "code",
      "metadata": {
        "colab": {
          "base_uri": "https://localhost:8080/"
        },
        "id": "AJ29CTdnB_Yh",
        "outputId": "13a62374-836e-4d23-ef26-b7a57fce6427"
      },
      "source": [
        "z=1+1j\r\n",
        "w = cmath.polar(z) \r\n",
        "print(w)\r\n",
        "type(w)"
      ],
      "execution_count": 27,
      "outputs": [
        {
          "output_type": "stream",
          "text": [
            "(1.4142135623730951, 0.7853981633974483)\n"
          ],
          "name": "stdout"
        },
        {
          "output_type": "execute_result",
          "data": {
            "text/plain": [
              "tuple"
            ]
          },
          "metadata": {
            "tags": []
          },
          "execution_count": 27
        }
      ]
    },
    {
      "cell_type": "code",
      "metadata": {
        "colab": {
          "base_uri": "https://localhost:8080/"
        },
        "id": "SP_ovFwdFXNc",
        "outputId": "0e99b7cd-6693-430c-8c19-c7cef1aec1ab"
      },
      "source": [
        "w = cmath.rect(1.4142135623730951, 0.7853981633974483) \r\n",
        "type(w)"
      ],
      "execution_count": 28,
      "outputs": [
        {
          "output_type": "execute_result",
          "data": {
            "text/plain": [
              "complex"
            ]
          },
          "metadata": {
            "tags": []
          },
          "execution_count": 28
        }
      ]
    },
    {
      "cell_type": "code",
      "metadata": {
        "colab": {
          "base_uri": "https://localhost:8080/"
        },
        "id": "KAWJtIZoFlTZ",
        "outputId": "4b36afad-6deb-4921-b107-e244720d8d83"
      },
      "source": [
        "number_of_z=0\r\n",
        "for x in \"sample string\":\r\n",
        "  print(x)\r\n",
        "\r\n",
        "\r\n"
      ],
      "execution_count": 29,
      "outputs": [
        {
          "output_type": "stream",
          "text": [
            "s\n",
            "a\n",
            "m\n",
            "p\n",
            "l\n",
            "e\n",
            " \n",
            "s\n",
            "t\n",
            "r\n",
            "i\n",
            "n\n",
            "g\n"
          ],
          "name": "stdout"
        }
      ]
    },
    {
      "cell_type": "code",
      "metadata": {
        "colab": {
          "base_uri": "https://localhost:8080/"
        },
        "id": "E-PWmDXHJXAQ",
        "outputId": "054ab57f-692e-46f2-eb79-3acf27986a17"
      },
      "source": [
        "str1=\"Plight of animals\"\r\n",
        "print(\"ani\" in str1)\r\n",
        "print(\"ani\" not in str1)"
      ],
      "execution_count": 30,
      "outputs": [
        {
          "output_type": "stream",
          "text": [
            "True\n",
            "False\n"
          ],
          "name": "stdout"
        }
      ]
    },
    {
      "cell_type": "code",
      "metadata": {
        "colab": {
          "base_uri": "https://localhost:8080/"
        },
        "id": "VAyvv3C_OLmG",
        "outputId": "2a484be5-eb81-41d3-cbcb-027de590400f"
      },
      "source": [
        "str1=\"This is the first string\"\r\n",
        "str2=\"This is the second string\"\r\n",
        "str3=str1+\" and \"+str2\r\n",
        "print(str3)"
      ],
      "execution_count": 31,
      "outputs": [
        {
          "output_type": "stream",
          "text": [
            "This is the first string and This is the second string\n"
          ],
          "name": "stdout"
        }
      ]
    },
    {
      "cell_type": "code",
      "metadata": {
        "colab": {
          "base_uri": "https://localhost:8080/"
        },
        "id": "JHrEYuYMOcOA",
        "outputId": "df14b075-5d29-47af-e298-4abd2348861f"
      },
      "source": [
        "str1=\"012345678\"\r\n",
        "modified_str=str1[:7] #upto 5th character \r\n",
        "print(modified_str)"
      ],
      "execution_count": 32,
      "outputs": [
        {
          "output_type": "stream",
          "text": [
            "0123456\n"
          ],
          "name": "stdout"
        }
      ]
    },
    {
      "cell_type": "code",
      "metadata": {
        "colab": {
          "base_uri": "https://localhost:8080/"
        },
        "id": "zcYGrZrCO7Ge",
        "outputId": "b0f68dfd-8f65-45b6-b52e-b3813bdce339"
      },
      "source": [
        "print(str1[1:7])"
      ],
      "execution_count": 33,
      "outputs": [
        {
          "output_type": "stream",
          "text": [
            "123456\n"
          ],
          "name": "stdout"
        }
      ]
    },
    {
      "cell_type": "code",
      "metadata": {
        "colab": {
          "base_uri": "https://localhost:8080/"
        },
        "id": "ni25J8ljQwpT",
        "outputId": "83fc43bb-b405-494b-809d-8fbed25c11ea"
      },
      "source": [
        "print(str1[:-1])"
      ],
      "execution_count": 34,
      "outputs": [
        {
          "output_type": "stream",
          "text": [
            "01234567\n"
          ],
          "name": "stdout"
        }
      ]
    },
    {
      "cell_type": "code",
      "metadata": {
        "colab": {
          "base_uri": "https://localhost:8080/"
        },
        "id": "gZWVGZpvQ-ZY",
        "outputId": "72a1c4b7-da90-473d-a681-a99acc140e6e"
      },
      "source": [
        "print(str1[0:7:2])"
      ],
      "execution_count": 35,
      "outputs": [
        {
          "output_type": "stream",
          "text": [
            "0246\n"
          ],
          "name": "stdout"
        }
      ]
    },
    {
      "cell_type": "code",
      "metadata": {
        "colab": {
          "base_uri": "https://localhost:8080/"
        },
        "id": "3p8J4o62RMA9",
        "outputId": "7b221ccb-329e-4e16-de7e-86b035587f09"
      },
      "source": [
        "#simple reversing the string\r\n",
        "print(str1[8:0:-1])"
      ],
      "execution_count": 36,
      "outputs": [
        {
          "output_type": "stream",
          "text": [
            "87654321\n"
          ],
          "name": "stdout"
        }
      ]
    },
    {
      "cell_type": "code",
      "metadata": {
        "colab": {
          "base_uri": "https://localhost:8080/",
          "height": 35
        },
        "id": "lM6R1zgUXuOp",
        "outputId": "919a760b-8539-4de3-dbb6-90c67ed31362"
      },
      "source": [
        "str1=\" This is my first python string \"\r\n",
        "str1.upper()"
      ],
      "execution_count": 37,
      "outputs": [
        {
          "output_type": "execute_result",
          "data": {
            "application/vnd.google.colaboratory.intrinsic+json": {
              "type": "string"
            },
            "text/plain": [
              "' THIS IS MY FIRST PYTHON STRING '"
            ]
          },
          "metadata": {
            "tags": []
          },
          "execution_count": 37
        }
      ]
    },
    {
      "cell_type": "code",
      "metadata": {
        "colab": {
          "base_uri": "https://localhost:8080/",
          "height": 35
        },
        "id": "fWOjCYFRX66O",
        "outputId": "1c3704f1-2f1c-42f4-e7ec-1f5b1b24bf20"
      },
      "source": [
        "str1.upper().lower()"
      ],
      "execution_count": 38,
      "outputs": [
        {
          "output_type": "execute_result",
          "data": {
            "application/vnd.google.colaboratory.intrinsic+json": {
              "type": "string"
            },
            "text/plain": [
              "' this is my first python string '"
            ]
          },
          "metadata": {
            "tags": []
          },
          "execution_count": 38
        }
      ]
    },
    {
      "cell_type": "code",
      "metadata": {
        "colab": {
          "base_uri": "https://localhost:8080/",
          "height": 35
        },
        "id": "Dl_HIzfdY5pO",
        "outputId": "dcf7329a-b4e0-4780-b768-3ce6658d15a2"
      },
      "source": [
        "str1.strip() #removes white space at the begining and end of the string"
      ],
      "execution_count": 39,
      "outputs": [
        {
          "output_type": "execute_result",
          "data": {
            "application/vnd.google.colaboratory.intrinsic+json": {
              "type": "string"
            },
            "text/plain": [
              "'This is my first python string'"
            ]
          },
          "metadata": {
            "tags": []
          },
          "execution_count": 39
        }
      ]
    },
    {
      "cell_type": "code",
      "metadata": {
        "colab": {
          "base_uri": "https://localhost:8080/"
        },
        "id": "v7OhCILKY_LR",
        "outputId": "7eebae46-3bfb-4d64-9dea-c5c15daaf0f0"
      },
      "source": [
        "print(str1.replace(\"first\", \"second\"))"
      ],
      "execution_count": 40,
      "outputs": [
        {
          "output_type": "stream",
          "text": [
            " This is my second python string \n"
          ],
          "name": "stdout"
        }
      ]
    },
    {
      "cell_type": "code",
      "metadata": {
        "colab": {
          "base_uri": "https://localhost:8080/"
        },
        "id": "TJQ0peAvfOE5",
        "outputId": "c7627c91-969e-42d1-a333-3a05516df0e8"
      },
      "source": [
        "print(str1)"
      ],
      "execution_count": 41,
      "outputs": [
        {
          "output_type": "stream",
          "text": [
            " This is my first python string \n"
          ],
          "name": "stdout"
        }
      ]
    },
    {
      "cell_type": "code",
      "metadata": {
        "id": "j7jYsyYLfQUs"
      },
      "source": [
        "quantity=2\r\n",
        "str1=\"the number of candies available is \"+str(quantity)"
      ],
      "execution_count": 42,
      "outputs": []
    },
    {
      "cell_type": "code",
      "metadata": {
        "id": "juFgqAC1fzCN",
        "outputId": "f14e94e3-fb66-4a5a-8ca6-5693ac3cf0b3",
        "colab": {
          "base_uri": "https://localhost:8080/"
        }
      },
      "source": [
        "quantity = 3\r\n",
        "itemno = 567\r\n",
        "price = 49.95\r\n",
        "myorder = \"I want {2} pieces of item {0} for {1} dollars.\"\r\n",
        "print(myorder.format(quantity, itemno, price))"
      ],
      "execution_count": 46,
      "outputs": [
        {
          "output_type": "stream",
          "text": [
            "I want 49.95 pieces of item 3 for 567 dollars.\n"
          ],
          "name": "stdout"
        }
      ]
    },
    {
      "cell_type": "code",
      "metadata": {
        "colab": {
          "base_uri": "https://localhost:8080/"
        },
        "id": "fWlQXO3wf-xy",
        "outputId": "dd0a6648-a8bb-4522-8624-3b9a795ed453"
      },
      "source": [
        "no_of_hours=3\r\n",
        "no_of_days1=5\r\n",
        "no_of_days2=6\r\n",
        "str1=\"If I study for {} hours a day, then it would take me {} to {} days to finish\"\r\n",
        "print(str1.format(no_of_hours,no_of_days1,no_of_days2))\r\n"
      ],
      "execution_count": 47,
      "outputs": [
        {
          "output_type": "stream",
          "text": [
            "If I study for 3 hours a day, then it would take me 5 to 6 to finish\n"
          ],
          "name": "stdout"
        }
      ]
    },
    {
      "cell_type": "code",
      "metadata": {
        "id": "j8ajcKaiktvu",
        "outputId": "834e6273-039f-482e-d37b-66ba96fb2faa",
        "colab": {
          "base_uri": "https://localhost:8080/"
        }
      },
      "source": [
        "str2=\"If I study for {2} hours a day, then it would take me {0} to {1} days to finish\"\r\n",
        "print(str2.format(no_of_hours,no_of_days1,no_of_days2))"
      ],
      "execution_count": 49,
      "outputs": [
        {
          "output_type": "stream",
          "text": [
            "If I study for 6 hours a day, then it would take me 3 to 5 days to finish\n"
          ],
          "name": "stdout"
        }
      ]
    },
    {
      "cell_type": "code",
      "metadata": {
        "id": "ybWA-UN8pvRi"
      },
      "source": [
        "txt = \"this is how you use \\\"double quotes\\\" in a string\""
      ],
      "execution_count": 50,
      "outputs": []
    },
    {
      "cell_type": "code",
      "metadata": {
        "id": "bYgDml_msI-h",
        "outputId": "eb7b8165-f094-4da4-bc0b-edd14dc54120",
        "colab": {
          "base_uri": "https://localhost:8080/"
        }
      },
      "source": [
        "print(txt)"
      ],
      "execution_count": 51,
      "outputs": [
        {
          "output_type": "stream",
          "text": [
            "this is how you use \"double quotes\" in a string\n"
          ],
          "name": "stdout"
        }
      ]
    },
    {
      "cell_type": "code",
      "metadata": {
        "id": "MqMujL7CsKUV"
      },
      "source": [
        ""
      ],
      "execution_count": null,
      "outputs": []
    }
  ]
}