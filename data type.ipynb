{
  "nbformat": 4,
  "nbformat_minor": 0,
  "metadata": {
    "colab": {
      "name": "Copy of Untitled121.ipynb",
      "provenance": [],
      "authorship_tag": "ABX9TyMLXM49lVvliqQdnCFle9BR",
      "include_colab_link": true
    },
    "kernelspec": {
      "name": "python3",
      "display_name": "Python 3"
    }
  },
  "cells": [
    {
      "cell_type": "markdown",
      "metadata": {
        "id": "view-in-github",
        "colab_type": "text"
      },
      "source": [
        "<a href=\"https://colab.research.google.com/github/pythoncoder100/practice/blob/master/data%20type.ipynb\" target=\"_parent\"><img src=\"https://colab.research.google.com/assets/colab-badge.svg\" alt=\"Open In Colab\"/></a>"
      ]
    },
    {
      "cell_type": "code",
      "metadata": {
        "colab": {
          "base_uri": "https://localhost:8080/"
        },
        "id": "YMzqce-XBjS3",
        "outputId": "dcfdbdb9-1cf0-4fff-a6bf-f30e4a05ac5f"
      },
      "source": [
        "#python numbers are int,float, complex\r\n",
        "a=4\r\n",
        "type(a)\r\n",
        "print(a)\r\n",
        "id(a)"
      ],
      "execution_count": 3,
      "outputs": [
        {
          "output_type": "stream",
          "text": [
            "4\n"
          ],
          "name": "stdout"
        },
        {
          "output_type": "execute_result",
          "data": {
            "text/plain": [
              "94345064655456"
            ]
          },
          "metadata": {
            "tags": []
          },
          "execution_count": 3
        }
      ]
    },
    {
      "cell_type": "code",
      "metadata": {
        "colab": {
          "base_uri": "https://localhost:8080/"
        },
        "id": "YD4Ml9JAB2z2",
        "outputId": "88597404-e55a-40b1-da9d-ec84db8b95d9"
      },
      "source": [
        "b=float(4)\r\n",
        "type(b)\r\n",
        "print(b)"
      ],
      "execution_count": 4,
      "outputs": [
        {
          "output_type": "stream",
          "text": [
            "4.0\n"
          ],
          "name": "stdout"
        }
      ]
    },
    {
      "cell_type": "code",
      "metadata": {
        "colab": {
          "base_uri": "https://localhost:8080/"
        },
        "id": "9ZxRWu8qB5sc",
        "outputId": "8da2e257-ca7f-479c-80e3-143e13a4421a"
      },
      "source": [
        "c=int(4.2)\r\n",
        "type(c)\r\n",
        "print(c)"
      ],
      "execution_count": 5,
      "outputs": [
        {
          "output_type": "stream",
          "text": [
            "4\n"
          ],
          "name": "stdout"
        }
      ]
    },
    {
      "cell_type": "code",
      "metadata": {
        "colab": {
          "base_uri": "https://localhost:8080/"
        },
        "id": "TBeyEVFeB8cy",
        "outputId": "b3799f6d-2f4c-487e-dfc6-2b18fd37766b"
      },
      "source": [
        "import cmath\r\n",
        "x = 5\r\n",
        "y = 3\r\n",
        "# converting x and y into complex number \r\n",
        "z1 = complex(x,y); \r\n",
        "z2 = 2 + 4j\r\n",
        "print(z1+z2)\r\n",
        "print(z1.real)\r\n",
        "print(z1.imag)\r\n",
        "type(z1)\r\n",
        "print(z1*z2)\r\n",
        "print (cmath.phase(0.707+0.707j)) #45 degress in radians\r\n",
        "\r\n",
        "\r\n",
        "\r\n"
      ],
      "execution_count": 6,
      "outputs": [
        {
          "output_type": "stream",
          "text": [
            "(7+7j)\n",
            "5.0\n",
            "3.0\n",
            "(-2+26j)\n",
            "0.7853981633974483\n"
          ],
          "name": "stdout"
        }
      ]
    },
    {
      "cell_type": "code",
      "metadata": {
        "colab": {
          "base_uri": "https://localhost:8080/"
        },
        "id": "AJ29CTdnB_Yh",
        "outputId": "14934864-d29d-421e-cac7-71329189d1cf"
      },
      "source": [
        "z=1+1j\r\n",
        "w = cmath.polar(z) \r\n",
        "print(w)\r\n",
        "type(w)"
      ],
      "execution_count": 7,
      "outputs": [
        {
          "output_type": "stream",
          "text": [
            "(1.4142135623730951, 0.7853981633974483)\n"
          ],
          "name": "stdout"
        },
        {
          "output_type": "execute_result",
          "data": {
            "text/plain": [
              "tuple"
            ]
          },
          "metadata": {
            "tags": []
          },
          "execution_count": 7
        }
      ]
    },
    {
      "cell_type": "code",
      "metadata": {
        "colab": {
          "base_uri": "https://localhost:8080/"
        },
        "id": "SP_ovFwdFXNc",
        "outputId": "3cdf7ae3-935d-4f82-809d-3334618a411f"
      },
      "source": [
        "w = cmath.rect(1.4142135623730951, 0.7853981633974483) \r\n",
        "type(w)"
      ],
      "execution_count": 8,
      "outputs": [
        {
          "output_type": "execute_result",
          "data": {
            "text/plain": [
              "complex"
            ]
          },
          "metadata": {
            "tags": []
          },
          "execution_count": 8
        }
      ]
    },
    {
      "cell_type": "code",
      "metadata": {
        "colab": {
          "base_uri": "https://localhost:8080/"
        },
        "id": "KAWJtIZoFlTZ",
        "outputId": "3705517d-9717-43bc-b593-8cee9e3a91d4"
      },
      "source": [
        "number_of_z=0\r\n",
        "for x in \"sample string\":\r\n",
        "  print(x)\r\n",
        "\r\n",
        "\r\n"
      ],
      "execution_count": 9,
      "outputs": [
        {
          "output_type": "stream",
          "text": [
            "s\n",
            "a\n",
            "m\n",
            "p\n",
            "l\n",
            "e\n",
            " \n",
            "s\n",
            "t\n",
            "r\n",
            "i\n",
            "n\n",
            "g\n"
          ],
          "name": "stdout"
        }
      ]
    },
    {
      "cell_type": "code",
      "metadata": {
        "colab": {
          "base_uri": "https://localhost:8080/"
        },
        "id": "E-PWmDXHJXAQ",
        "outputId": "deac3570-ef2a-487f-bcae-8168f8ddb1db"
      },
      "source": [
        "str1=\"Plight of animals\"\r\n",
        "print(\"ani\" in str1)\r\n",
        "print(\"ani\" not in str1)"
      ],
      "execution_count": 10,
      "outputs": [
        {
          "output_type": "stream",
          "text": [
            "True\n",
            "False\n"
          ],
          "name": "stdout"
        }
      ]
    },
    {
      "cell_type": "code",
      "metadata": {
        "colab": {
          "base_uri": "https://localhost:8080/"
        },
        "id": "VAyvv3C_OLmG",
        "outputId": "7085e7cb-5782-4af5-e1f9-4629bec328d0"
      },
      "source": [
        "str1=\"This is the first string\"\r\n",
        "str2=\"This is the second string\"\r\n",
        "str3=str1+\" and \"+str2\r\n",
        "print(str3)"
      ],
      "execution_count": 11,
      "outputs": [
        {
          "output_type": "stream",
          "text": [
            "This is the first string and This is the second string\n"
          ],
          "name": "stdout"
        }
      ]
    },
    {
      "cell_type": "code",
      "metadata": {
        "colab": {
          "base_uri": "https://localhost:8080/"
        },
        "id": "JHrEYuYMOcOA",
        "outputId": "3c3e160d-e1e4-47b1-cfdb-d163baab9b1e"
      },
      "source": [
        "str1=\"012345678\"\r\n",
        "modified_str=str1[:7] #upto 7th character \r\n",
        "print(modified_str)"
      ],
      "execution_count": 12,
      "outputs": [
        {
          "output_type": "stream",
          "text": [
            "0123456\n"
          ],
          "name": "stdout"
        }
      ]
    },
    {
      "cell_type": "code",
      "metadata": {
        "colab": {
          "base_uri": "https://localhost:8080/"
        },
        "id": "zcYGrZrCO7Ge",
        "outputId": "6f3155ab-af0c-4248-c649-bc44c06e1a80"
      },
      "source": [
        "print(str1[1:7])"
      ],
      "execution_count": 13,
      "outputs": [
        {
          "output_type": "stream",
          "text": [
            "123456\n"
          ],
          "name": "stdout"
        }
      ]
    },
    {
      "cell_type": "code",
      "metadata": {
        "colab": {
          "base_uri": "https://localhost:8080/"
        },
        "id": "ni25J8ljQwpT",
        "outputId": "0b4309d5-77d2-438f-cf49-0ace3348e13c"
      },
      "source": [
        "print(str1[:-1])"
      ],
      "execution_count": 14,
      "outputs": [
        {
          "output_type": "stream",
          "text": [
            "01234567\n"
          ],
          "name": "stdout"
        }
      ]
    },
    {
      "cell_type": "code",
      "metadata": {
        "colab": {
          "base_uri": "https://localhost:8080/"
        },
        "id": "gZWVGZpvQ-ZY",
        "outputId": "e0b0a6d2-9d47-4a64-bd6a-4da558b780f7"
      },
      "source": [
        "print(str1[0:7:2])"
      ],
      "execution_count": 15,
      "outputs": [
        {
          "output_type": "stream",
          "text": [
            "0246\n"
          ],
          "name": "stdout"
        }
      ]
    },
    {
      "cell_type": "code",
      "metadata": {
        "colab": {
          "base_uri": "https://localhost:8080/"
        },
        "id": "3p8J4o62RMA9",
        "outputId": "eee81c8a-4d0a-4bfe-d96e-5b0d917d6995"
      },
      "source": [
        "#simple reversing the string\r\n",
        "print(str1[8:0:-1])"
      ],
      "execution_count": 16,
      "outputs": [
        {
          "output_type": "stream",
          "text": [
            "87654321\n"
          ],
          "name": "stdout"
        }
      ]
    },
    {
      "cell_type": "code",
      "metadata": {
        "colab": {
          "base_uri": "https://localhost:8080/",
          "height": 35
        },
        "id": "lM6R1zgUXuOp",
        "outputId": "6a597e3d-0814-4e37-f369-f2bf5a84953a"
      },
      "source": [
        "str1=\" This is my first python string \"\r\n",
        "str1.upper()"
      ],
      "execution_count": 17,
      "outputs": [
        {
          "output_type": "execute_result",
          "data": {
            "application/vnd.google.colaboratory.intrinsic+json": {
              "type": "string"
            },
            "text/plain": [
              "' THIS IS MY FIRST PYTHON STRING '"
            ]
          },
          "metadata": {
            "tags": []
          },
          "execution_count": 17
        }
      ]
    },
    {
      "cell_type": "code",
      "metadata": {
        "colab": {
          "base_uri": "https://localhost:8080/",
          "height": 35
        },
        "id": "fWOjCYFRX66O",
        "outputId": "99f0f616-9123-4acd-8ba1-682f43e18cff"
      },
      "source": [
        "str1.upper().lower()"
      ],
      "execution_count": 18,
      "outputs": [
        {
          "output_type": "execute_result",
          "data": {
            "application/vnd.google.colaboratory.intrinsic+json": {
              "type": "string"
            },
            "text/plain": [
              "' this is my first python string '"
            ]
          },
          "metadata": {
            "tags": []
          },
          "execution_count": 18
        }
      ]
    },
    {
      "cell_type": "code",
      "metadata": {
        "colab": {
          "base_uri": "https://localhost:8080/",
          "height": 35
        },
        "id": "Dl_HIzfdY5pO",
        "outputId": "ab607cae-ab55-4e90-d92e-2e31d7b3c0e1"
      },
      "source": [
        "str1.strip() #removes white space at the begining and end of the string"
      ],
      "execution_count": 19,
      "outputs": [
        {
          "output_type": "execute_result",
          "data": {
            "application/vnd.google.colaboratory.intrinsic+json": {
              "type": "string"
            },
            "text/plain": [
              "'This is my first python string'"
            ]
          },
          "metadata": {
            "tags": []
          },
          "execution_count": 19
        }
      ]
    },
    {
      "cell_type": "code",
      "metadata": {
        "colab": {
          "base_uri": "https://localhost:8080/"
        },
        "id": "v7OhCILKY_LR",
        "outputId": "a45afff3-cbf4-43fd-8c0b-97a4c723be25"
      },
      "source": [
        "print(str1.replace(\"first\", \"second\"))"
      ],
      "execution_count": 20,
      "outputs": [
        {
          "output_type": "stream",
          "text": [
            " This is my second python string \n"
          ],
          "name": "stdout"
        }
      ]
    },
    {
      "cell_type": "code",
      "metadata": {
        "colab": {
          "base_uri": "https://localhost:8080/"
        },
        "id": "TJQ0peAvfOE5",
        "outputId": "d660c38c-3e7a-4875-9dce-9de91a91515d"
      },
      "source": [
        "print(str1)"
      ],
      "execution_count": 21,
      "outputs": [
        {
          "output_type": "stream",
          "text": [
            " This is my first python string \n"
          ],
          "name": "stdout"
        }
      ]
    },
    {
      "cell_type": "code",
      "metadata": {
        "id": "j7jYsyYLfQUs"
      },
      "source": [
        "quantity=2\r\n",
        "str1=\"the number of candies available is \"+str(quantity)"
      ],
      "execution_count": 22,
      "outputs": []
    },
    {
      "cell_type": "code",
      "metadata": {
        "id": "juFgqAC1fzCN"
      },
      "source": [
        "k=2"
      ],
      "execution_count": 1,
      "outputs": []
    },
    {
      "cell_type": "code",
      "metadata": {
        "colab": {
          "base_uri": "https://localhost:8080/",
          "height": 35
        },
        "id": "fWlQXO3wf-xy",
        "outputId": "5b2bd37c-ee04-48f8-ee9f-f6938d7d58f9"
      },
      "source": [
        "str(k)"
      ],
      "execution_count": 2,
      "outputs": [
        {
          "output_type": "execute_result",
          "data": {
            "application/vnd.google.colaboratory.intrinsic+json": {
              "type": "string"
            },
            "text/plain": [
              "'2'"
            ]
          },
          "metadata": {
            "tags": []
          },
          "execution_count": 2
        }
      ]
    },
    {
      "cell_type": "code",
      "metadata": {
        "id": "j8ajcKaiktvu"
      },
      "source": [
        ""
      ],
      "execution_count": null,
      "outputs": []
    }
  ]
}