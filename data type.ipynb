{
  "nbformat": 4,
  "nbformat_minor": 0,
  "metadata": {
    "colab": {
      "name": "Copy of Untitled121.ipynb",
      "provenance": [],
      "authorship_tag": "ABX9TyPF5hOBRur/x4C/CNIhfwhn",
      "include_colab_link": true
    },
    "kernelspec": {
      "name": "python3",
      "display_name": "Python 3"
    }
  },
  "cells": [
    {
      "cell_type": "markdown",
      "metadata": {
        "id": "view-in-github",
        "colab_type": "text"
      },
      "source": [
        "<a href=\"https://colab.research.google.com/github/pythoncoder100/practice/blob/master/data%20type.ipynb\" target=\"_parent\"><img src=\"https://colab.research.google.com/assets/colab-badge.svg\" alt=\"Open In Colab\"/></a>"
      ]
    },
    {
      "cell_type": "code",
      "metadata": {
        "colab": {
          "base_uri": "https://localhost:8080/"
        },
        "id": "YMzqce-XBjS3",
        "outputId": "68711a86-6eb9-4f18-80bf-14dec8113daa"
      },
      "source": [
        "#python numbers are int,float, complex\r\n",
        "a=4\r\n",
        "type(a)\r\n",
        "print(a)\r\n",
        "id(a)"
      ],
      "execution_count": null,
      "outputs": [
        {
          "output_type": "stream",
          "text": [
            "4\n"
          ],
          "name": "stdout"
        },
        {
          "output_type": "execute_result",
          "data": {
            "text/plain": [
              "94067421366880"
            ]
          },
          "metadata": {
            "tags": []
          },
          "execution_count": 129
        }
      ]
    },
    {
      "cell_type": "code",
      "metadata": {
        "colab": {
          "base_uri": "https://localhost:8080/"
        },
        "id": "YD4Ml9JAB2z2",
        "outputId": "08195c4a-c53b-47ed-ed80-970d77258b01"
      },
      "source": [
        "b=float(4)\r\n",
        "type(b)\r\n",
        "print(b)"
      ],
      "execution_count": null,
      "outputs": [
        {
          "output_type": "stream",
          "text": [
            "4.0\n"
          ],
          "name": "stdout"
        }
      ]
    },
    {
      "cell_type": "code",
      "metadata": {
        "colab": {
          "base_uri": "https://localhost:8080/"
        },
        "id": "9ZxRWu8qB5sc",
        "outputId": "edfe6efe-0786-4e46-8357-e44b6f9b8bc2"
      },
      "source": [
        "c=int(4.2)\r\n",
        "type(c)\r\n",
        "print(c)"
      ],
      "execution_count": null,
      "outputs": [
        {
          "output_type": "stream",
          "text": [
            "4\n"
          ],
          "name": "stdout"
        }
      ]
    },
    {
      "cell_type": "code",
      "metadata": {
        "colab": {
          "base_uri": "https://localhost:8080/"
        },
        "id": "TBeyEVFeB8cy",
        "outputId": "9456ce22-1f9a-4c17-bd30-b4273f6fe18b"
      },
      "source": [
        "import cmath\r\n",
        "x = 5\r\n",
        "y = 3\r\n",
        "# converting x and y into complex number \r\n",
        "z1 = complex(x,y); \r\n",
        "z2 = 2 + 4j\r\n",
        "print(z1+z2)\r\n",
        "print(z1.real)\r\n",
        "print(z1.imag)\r\n",
        "type(z1)\r\n",
        "print(z1*z2)\r\n",
        "print (cmath.phase(0.707+0.707j)) #45 degress in radians\r\n",
        "\r\n",
        "\r\n",
        "\r\n"
      ],
      "execution_count": null,
      "outputs": [
        {
          "output_type": "stream",
          "text": [
            "(7+7j)\n",
            "5.0\n",
            "3.0\n",
            "(-2+26j)\n",
            "0.7853981633974483\n"
          ],
          "name": "stdout"
        }
      ]
    },
    {
      "cell_type": "code",
      "metadata": {
        "colab": {
          "base_uri": "https://localhost:8080/"
        },
        "id": "AJ29CTdnB_Yh",
        "outputId": "b7c178ed-447b-4d7f-a208-f702bd554ca7"
      },
      "source": [
        "z=1+1j\r\n",
        "w = cmath.polar(z) \r\n",
        "print(w)\r\n",
        "type(w)"
      ],
      "execution_count": null,
      "outputs": [
        {
          "output_type": "stream",
          "text": [
            "(1.4142135623730951, 0.7853981633974483)\n"
          ],
          "name": "stdout"
        },
        {
          "output_type": "execute_result",
          "data": {
            "text/plain": [
              "tuple"
            ]
          },
          "metadata": {
            "tags": []
          },
          "execution_count": 133
        }
      ]
    },
    {
      "cell_type": "code",
      "metadata": {
        "colab": {
          "base_uri": "https://localhost:8080/"
        },
        "id": "SP_ovFwdFXNc",
        "outputId": "b91961e6-bbbf-42d9-ab34-cfe8addeea40"
      },
      "source": [
        "w = cmath.rect(1.4142135623730951, 0.7853981633974483) \r\n",
        "type(w)"
      ],
      "execution_count": null,
      "outputs": [
        {
          "output_type": "execute_result",
          "data": {
            "text/plain": [
              "complex"
            ]
          },
          "metadata": {
            "tags": []
          },
          "execution_count": 134
        }
      ]
    },
    {
      "cell_type": "code",
      "metadata": {
        "colab": {
          "base_uri": "https://localhost:8080/"
        },
        "id": "KAWJtIZoFlTZ",
        "outputId": "836bf08d-2485-4490-beee-7f4aa29859cf"
      },
      "source": [
        "number_of_z=0\r\n",
        "for x in \"sample string\":\r\n",
        "  print(x)\r\n",
        "\r\n",
        "\r\n"
      ],
      "execution_count": null,
      "outputs": [
        {
          "output_type": "stream",
          "text": [
            "s\n",
            "a\n",
            "m\n",
            "p\n",
            "l\n",
            "e\n",
            " \n",
            "s\n",
            "t\n",
            "r\n",
            "i\n",
            "n\n",
            "g\n"
          ],
          "name": "stdout"
        }
      ]
    },
    {
      "cell_type": "code",
      "metadata": {
        "colab": {
          "base_uri": "https://localhost:8080/"
        },
        "id": "E-PWmDXHJXAQ",
        "outputId": "c9896949-7bda-441b-85ed-9574f267f1fc"
      },
      "source": [
        "str1=\"Plight of animals\"\r\n",
        "print(\"ani\" in str1)\r\n",
        "print(\"ani\" not in str1)"
      ],
      "execution_count": null,
      "outputs": [
        {
          "output_type": "stream",
          "text": [
            "True\n",
            "False\n"
          ],
          "name": "stdout"
        }
      ]
    },
    {
      "cell_type": "code",
      "metadata": {
        "colab": {
          "base_uri": "https://localhost:8080/"
        },
        "id": "VAyvv3C_OLmG",
        "outputId": "2516bdfd-4404-4d0b-d9ad-3246abce5001"
      },
      "source": [
        "str1=\"This is the first string\"\r\n",
        "str2=\"This is the second string\"\r\n",
        "str=str1+\" and \"+str2\r\n",
        "print(str)"
      ],
      "execution_count": null,
      "outputs": [
        {
          "output_type": "stream",
          "text": [
            "This is the first string and This is the second string\n"
          ],
          "name": "stdout"
        }
      ]
    },
    {
      "cell_type": "code",
      "metadata": {
        "colab": {
          "base_uri": "https://localhost:8080/"
        },
        "id": "JHrEYuYMOcOA",
        "outputId": "58b6d89e-d768-43f6-9706-8a72280407a2"
      },
      "source": [
        "str1=\"012345678\"\r\n",
        "modified_str=str1[:7] #upto 5th character \r\n",
        "print(modified_str)"
      ],
      "execution_count": null,
      "outputs": [
        {
          "output_type": "stream",
          "text": [
            "0123456\n"
          ],
          "name": "stdout"
        }
      ]
    },
    {
      "cell_type": "code",
      "metadata": {
        "colab": {
          "base_uri": "https://localhost:8080/"
        },
        "id": "zcYGrZrCO7Ge",
        "outputId": "bb7b618a-75c0-49d9-c634-42da017c9f30"
      },
      "source": [
        "print(str1[1:7])"
      ],
      "execution_count": null,
      "outputs": [
        {
          "output_type": "stream",
          "text": [
            "123456\n"
          ],
          "name": "stdout"
        }
      ]
    },
    {
      "cell_type": "code",
      "metadata": {
        "colab": {
          "base_uri": "https://localhost:8080/"
        },
        "id": "ni25J8ljQwpT",
        "outputId": "fce9494e-f96e-463c-f39a-00123c8e9590"
      },
      "source": [
        "print(str1[:-1])"
      ],
      "execution_count": null,
      "outputs": [
        {
          "output_type": "stream",
          "text": [
            "01234567\n"
          ],
          "name": "stdout"
        }
      ]
    },
    {
      "cell_type": "code",
      "metadata": {
        "colab": {
          "base_uri": "https://localhost:8080/"
        },
        "id": "gZWVGZpvQ-ZY",
        "outputId": "ac5690a2-1f7f-4cdc-8603-6ff5ec48bc97"
      },
      "source": [
        "print(str1[0:7:2])"
      ],
      "execution_count": null,
      "outputs": [
        {
          "output_type": "stream",
          "text": [
            "0246\n"
          ],
          "name": "stdout"
        }
      ]
    },
    {
      "cell_type": "code",
      "metadata": {
        "colab": {
          "base_uri": "https://localhost:8080/"
        },
        "id": "3p8J4o62RMA9",
        "outputId": "9acd59ef-de63-4154-80c4-ed78fe80e673"
      },
      "source": [
        "#simple reversing the string\r\n",
        "print(str1[8:0:-1])"
      ],
      "execution_count": null,
      "outputs": [
        {
          "output_type": "stream",
          "text": [
            "87654321\n"
          ],
          "name": "stdout"
        }
      ]
    },
    {
      "cell_type": "code",
      "metadata": {
        "colab": {
          "base_uri": "https://localhost:8080/",
          "height": 35
        },
        "id": "lM6R1zgUXuOp",
        "outputId": "74396afe-d748-4f36-eda9-7b3eaa750872"
      },
      "source": [
        "str1=\" This is my first python string \"\r\n",
        "str1.upper()"
      ],
      "execution_count": null,
      "outputs": [
        {
          "output_type": "execute_result",
          "data": {
            "application/vnd.google.colaboratory.intrinsic+json": {
              "type": "string"
            },
            "text/plain": [
              "' THIS IS MY FIRST PYTHON STRING '"
            ]
          },
          "metadata": {
            "tags": []
          },
          "execution_count": 143
        }
      ]
    },
    {
      "cell_type": "code",
      "metadata": {
        "colab": {
          "base_uri": "https://localhost:8080/",
          "height": 35
        },
        "id": "fWOjCYFRX66O",
        "outputId": "f97d42dc-6a88-48d2-a187-0002cae68736"
      },
      "source": [
        "str1.upper().lower()"
      ],
      "execution_count": null,
      "outputs": [
        {
          "output_type": "execute_result",
          "data": {
            "application/vnd.google.colaboratory.intrinsic+json": {
              "type": "string"
            },
            "text/plain": [
              "' this is my first python string '"
            ]
          },
          "metadata": {
            "tags": []
          },
          "execution_count": 144
        }
      ]
    },
    {
      "cell_type": "code",
      "metadata": {
        "colab": {
          "base_uri": "https://localhost:8080/",
          "height": 35
        },
        "id": "Dl_HIzfdY5pO",
        "outputId": "7a9c7400-e786-4970-ed89-81e21b1ab1a3"
      },
      "source": [
        "str1.strip() #removes white space at the begining and end of the string"
      ],
      "execution_count": null,
      "outputs": [
        {
          "output_type": "execute_result",
          "data": {
            "application/vnd.google.colaboratory.intrinsic+json": {
              "type": "string"
            },
            "text/plain": [
              "'This is my first python string'"
            ]
          },
          "metadata": {
            "tags": []
          },
          "execution_count": 145
        }
      ]
    },
    {
      "cell_type": "code",
      "metadata": {
        "colab": {
          "base_uri": "https://localhost:8080/"
        },
        "id": "v7OhCILKY_LR",
        "outputId": "f23564da-a628-45ca-e6ef-0d5eb208e206"
      },
      "source": [
        "print(str1.replace(\"first\", \"second\"))"
      ],
      "execution_count": null,
      "outputs": [
        {
          "output_type": "stream",
          "text": [
            " This is my second python string \n"
          ],
          "name": "stdout"
        }
      ]
    },
    {
      "cell_type": "code",
      "metadata": {
        "colab": {
          "base_uri": "https://localhost:8080/"
        },
        "id": "TJQ0peAvfOE5",
        "outputId": "7de6ab3e-49c4-4fcf-e829-02a6aa963523"
      },
      "source": [
        "print(str1)"
      ],
      "execution_count": null,
      "outputs": [
        {
          "output_type": "stream",
          "text": [
            " This is my first python string \n"
          ],
          "name": "stdout"
        }
      ]
    },
    {
      "cell_type": "code",
      "metadata": {
        "colab": {
          "base_uri": "https://localhost:8080/",
          "height": 185
        },
        "id": "j7jYsyYLfQUs",
        "outputId": "c0f5483b-cd9c-46a7-eb2b-8b09c50730d3"
      },
      "source": [
        "quantity=2\r\n",
        "str1=\"the number of candies available is \"+str(quantity)"
      ],
      "execution_count": null,
      "outputs": [
        {
          "output_type": "error",
          "ename": "TypeError",
          "evalue": "ignored",
          "traceback": [
            "\u001b[0;31m---------------------------------------------------------------------------\u001b[0m",
            "\u001b[0;31mTypeError\u001b[0m                                 Traceback (most recent call last)",
            "\u001b[0;32m<ipython-input-149-ddbbbca9da89>\u001b[0m in \u001b[0;36m<module>\u001b[0;34m()\u001b[0m\n\u001b[1;32m      1\u001b[0m \u001b[0mquantity\u001b[0m\u001b[0;34m=\u001b[0m\u001b[0;36m2\u001b[0m\u001b[0;34m\u001b[0m\u001b[0;34m\u001b[0m\u001b[0m\n\u001b[0;32m----> 2\u001b[0;31m \u001b[0mstr1\u001b[0m\u001b[0;34m=\u001b[0m\u001b[0;34m\"the number of candies available is \"\u001b[0m\u001b[0;34m+\u001b[0m\u001b[0mstr\u001b[0m\u001b[0;34m(\u001b[0m\u001b[0mquantity\u001b[0m\u001b[0;34m)\u001b[0m\u001b[0;34m\u001b[0m\u001b[0;34m\u001b[0m\u001b[0m\n\u001b[0m",
            "\u001b[0;31mTypeError\u001b[0m: 'str' object is not callable"
          ]
        }
      ]
    },
    {
      "cell_type": "code",
      "metadata": {
        "id": "juFgqAC1fzCN"
      },
      "source": [
        "k=2"
      ],
      "execution_count": null,
      "outputs": []
    },
    {
      "cell_type": "code",
      "metadata": {
        "colab": {
          "base_uri": "https://localhost:8080/",
          "height": 167
        },
        "id": "fWlQXO3wf-xy",
        "outputId": "a3b25ebc-d32d-4bcc-eb35-4539e9615b24"
      },
      "source": [
        "str(k)"
      ],
      "execution_count": null,
      "outputs": [
        {
          "output_type": "error",
          "ename": "TypeError",
          "evalue": "ignored",
          "traceback": [
            "\u001b[0;31m---------------------------------------------------------------------------\u001b[0m",
            "\u001b[0;31mTypeError\u001b[0m                                 Traceback (most recent call last)",
            "\u001b[0;32m<ipython-input-127-00594fcae11a>\u001b[0m in \u001b[0;36m<module>\u001b[0;34m()\u001b[0m\n\u001b[0;32m----> 1\u001b[0;31m \u001b[0mstr\u001b[0m\u001b[0;34m(\u001b[0m\u001b[0mk\u001b[0m\u001b[0;34m)\u001b[0m\u001b[0;34m\u001b[0m\u001b[0;34m\u001b[0m\u001b[0m\n\u001b[0m",
            "\u001b[0;31mTypeError\u001b[0m: 'str' object is not callable"
          ]
        }
      ]
    },
    {
      "cell_type": "code",
      "metadata": {
        "id": "j8ajcKaiktvu"
      },
      "source": [
        ""
      ],
      "execution_count": null,
      "outputs": []
    }
  ]
}