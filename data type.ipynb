{
  "nbformat": 4,
  "nbformat_minor": 0,
  "metadata": {
    "colab": {
      "name": "Copy of Untitled121.ipynb",
      "provenance": [],
      "authorship_tag": "ABX9TyO5OwIGSYyk9n2KnmvYaWx3",
      "include_colab_link": true
    },
    "kernelspec": {
      "name": "python3",
      "display_name": "Python 3"
    }
  },
  "cells": [
    {
      "cell_type": "markdown",
      "metadata": {
        "id": "view-in-github",
        "colab_type": "text"
      },
      "source": [
        "<a href=\"https://colab.research.google.com/github/pythoncoder100/practice/blob/master/data%20type.ipynb\" target=\"_parent\"><img src=\"https://colab.research.google.com/assets/colab-badge.svg\" alt=\"Open In Colab\"/></a>"
      ]
    },
    {
      "cell_type": "code",
      "metadata": {
        "colab": {
          "base_uri": "https://localhost:8080/"
        },
        "id": "YMzqce-XBjS3",
        "outputId": "b1b4aa99-1e4b-4b65-963f-6e481d6fe5e5"
      },
      "source": [
        "#python numbers are int,float, complex\r\n",
        "a=4\r\n",
        "type(a)\r\n",
        "print(a)\r\n",
        "id(a)"
      ],
      "execution_count": 3,
      "outputs": [
        {
          "output_type": "stream",
          "text": [
            "4\n"
          ],
          "name": "stdout"
        },
        {
          "output_type": "execute_result",
          "data": {
            "text/plain": [
              "93938397018720"
            ]
          },
          "metadata": {
            "tags": []
          },
          "execution_count": 3
        }
      ]
    },
    {
      "cell_type": "code",
      "metadata": {
        "colab": {
          "base_uri": "https://localhost:8080/"
        },
        "id": "YD4Ml9JAB2z2",
        "outputId": "e2811c63-f82a-4944-8b57-fb0ecbc497f5"
      },
      "source": [
        "b=float(4)\r\n",
        "type(b)\r\n",
        "print(b)"
      ],
      "execution_count": 4,
      "outputs": [
        {
          "output_type": "stream",
          "text": [
            "4.0\n"
          ],
          "name": "stdout"
        }
      ]
    },
    {
      "cell_type": "code",
      "metadata": {
        "colab": {
          "base_uri": "https://localhost:8080/"
        },
        "id": "9ZxRWu8qB5sc",
        "outputId": "e50d9ec6-5211-4e21-81f5-ad166584cac7"
      },
      "source": [
        "c=int(4.2)\r\n",
        "type(c)\r\n",
        "print(c)"
      ],
      "execution_count": 5,
      "outputs": [
        {
          "output_type": "stream",
          "text": [
            "4\n"
          ],
          "name": "stdout"
        }
      ]
    },
    {
      "cell_type": "code",
      "metadata": {
        "colab": {
          "base_uri": "https://localhost:8080/"
        },
        "id": "TBeyEVFeB8cy",
        "outputId": "2f80ecf2-3e6a-4290-80a3-2e2dced563fb"
      },
      "source": [
        "import cmath\r\n",
        "x = 5\r\n",
        "y = 3\r\n",
        "# converting x and y into complex number \r\n",
        "z1 = complex(x,y); \r\n",
        "z2 = 2 + 4j\r\n",
        "print(z1+z2)\r\n",
        "print(z1.real)\r\n",
        "print(z1.imag)\r\n",
        "type(z1)\r\n",
        "print(z1*z2)\r\n",
        "print (cmath.phase(0.707+0.707j)) #45 degress in radians\r\n",
        "\r\n",
        "\r\n",
        "\r\n"
      ],
      "execution_count": 6,
      "outputs": [
        {
          "output_type": "stream",
          "text": [
            "(7+7j)\n",
            "5.0\n",
            "3.0\n",
            "(-2+26j)\n",
            "0.7853981633974483\n"
          ],
          "name": "stdout"
        }
      ]
    },
    {
      "cell_type": "code",
      "metadata": {
        "colab": {
          "base_uri": "https://localhost:8080/"
        },
        "id": "AJ29CTdnB_Yh",
        "outputId": "34e15c70-5fd2-447d-a3d6-18bcdf666d68"
      },
      "source": [
        "z=1+1j\r\n",
        "w = cmath.polar(z) \r\n",
        "print(w)\r\n",
        "type(w)"
      ],
      "execution_count": 7,
      "outputs": [
        {
          "output_type": "stream",
          "text": [
            "(1.4142135623730951, 0.7853981633974483)\n"
          ],
          "name": "stdout"
        },
        {
          "output_type": "execute_result",
          "data": {
            "text/plain": [
              "tuple"
            ]
          },
          "metadata": {
            "tags": []
          },
          "execution_count": 7
        }
      ]
    },
    {
      "cell_type": "code",
      "metadata": {
        "colab": {
          "base_uri": "https://localhost:8080/"
        },
        "id": "SP_ovFwdFXNc",
        "outputId": "137d6155-3f84-4db0-fa1e-bf952d8d664e"
      },
      "source": [
        "w = cmath.rect(1.4142135623730951, 0.7853981633974483) \r\n",
        "type(w)"
      ],
      "execution_count": 8,
      "outputs": [
        {
          "output_type": "execute_result",
          "data": {
            "text/plain": [
              "complex"
            ]
          },
          "metadata": {
            "tags": []
          },
          "execution_count": 8
        }
      ]
    },
    {
      "cell_type": "code",
      "metadata": {
        "colab": {
          "base_uri": "https://localhost:8080/"
        },
        "id": "KAWJtIZoFlTZ",
        "outputId": "11ca43bb-887a-4f88-de2c-bb5e3dd2b952"
      },
      "source": [
        "number_of_z=0\r\n",
        "for x in \"sample string\":\r\n",
        "  print(x)\r\n",
        "\r\n",
        "\r\n"
      ],
      "execution_count": 9,
      "outputs": [
        {
          "output_type": "stream",
          "text": [
            "s\n",
            "a\n",
            "m\n",
            "p\n",
            "l\n",
            "e\n",
            " \n",
            "s\n",
            "t\n",
            "r\n",
            "i\n",
            "n\n",
            "g\n"
          ],
          "name": "stdout"
        }
      ]
    },
    {
      "cell_type": "code",
      "metadata": {
        "colab": {
          "base_uri": "https://localhost:8080/"
        },
        "id": "E-PWmDXHJXAQ",
        "outputId": "d6c4ed9b-42d4-4f3b-b2b3-961dec1f9fca"
      },
      "source": [
        "str1=\"Plight of animals\"\r\n",
        "print(\"ani\" in str1)\r\n",
        "print(\"ani\" not in str1)"
      ],
      "execution_count": 10,
      "outputs": [
        {
          "output_type": "stream",
          "text": [
            "True\n",
            "False\n"
          ],
          "name": "stdout"
        }
      ]
    },
    {
      "cell_type": "code",
      "metadata": {
        "colab": {
          "base_uri": "https://localhost:8080/"
        },
        "id": "VAyvv3C_OLmG",
        "outputId": "8558f6d8-44e7-4503-8648-35f3dcb399c9"
      },
      "source": [
        "str1=\"This is the first string\"\r\n",
        "str2=\"This is the second string\"\r\n",
        "str3=str1+\" and \"+str2\r\n",
        "print(str3)"
      ],
      "execution_count": 22,
      "outputs": [
        {
          "output_type": "stream",
          "text": [
            "This is the first string and This is the second string\n"
          ],
          "name": "stdout"
        }
      ]
    },
    {
      "cell_type": "code",
      "metadata": {
        "colab": {
          "base_uri": "https://localhost:8080/"
        },
        "id": "JHrEYuYMOcOA",
        "outputId": "d60151dc-19dc-465e-bc7d-6637e1769675"
      },
      "source": [
        "str1=\"012345678\"\r\n",
        "modified_str=str1[:7] #upto 5th character \r\n",
        "print(modified_str)"
      ],
      "execution_count": 12,
      "outputs": [
        {
          "output_type": "stream",
          "text": [
            "0123456\n"
          ],
          "name": "stdout"
        }
      ]
    },
    {
      "cell_type": "code",
      "metadata": {
        "colab": {
          "base_uri": "https://localhost:8080/"
        },
        "id": "zcYGrZrCO7Ge",
        "outputId": "ee325ee6-8b9b-4fa5-f2cf-90b314d93751"
      },
      "source": [
        "print(str1[1:7])"
      ],
      "execution_count": 13,
      "outputs": [
        {
          "output_type": "stream",
          "text": [
            "123456\n"
          ],
          "name": "stdout"
        }
      ]
    },
    {
      "cell_type": "code",
      "metadata": {
        "colab": {
          "base_uri": "https://localhost:8080/"
        },
        "id": "ni25J8ljQwpT",
        "outputId": "9e68999b-167e-43b3-f8d3-4a17a58e5351"
      },
      "source": [
        "print(str1[:-1])"
      ],
      "execution_count": 14,
      "outputs": [
        {
          "output_type": "stream",
          "text": [
            "01234567\n"
          ],
          "name": "stdout"
        }
      ]
    },
    {
      "cell_type": "code",
      "metadata": {
        "colab": {
          "base_uri": "https://localhost:8080/"
        },
        "id": "gZWVGZpvQ-ZY",
        "outputId": "17f58068-d407-4fac-d729-0c9b696c7d63"
      },
      "source": [
        "print(str1[0:7:2])"
      ],
      "execution_count": 15,
      "outputs": [
        {
          "output_type": "stream",
          "text": [
            "0246\n"
          ],
          "name": "stdout"
        }
      ]
    },
    {
      "cell_type": "code",
      "metadata": {
        "colab": {
          "base_uri": "https://localhost:8080/"
        },
        "id": "3p8J4o62RMA9",
        "outputId": "5d794055-7a69-408b-f8e8-6a228a68d378"
      },
      "source": [
        "#simple reversing the string\r\n",
        "print(str1[8:0:-1])"
      ],
      "execution_count": 16,
      "outputs": [
        {
          "output_type": "stream",
          "text": [
            "87654321\n"
          ],
          "name": "stdout"
        }
      ]
    },
    {
      "cell_type": "code",
      "metadata": {
        "colab": {
          "base_uri": "https://localhost:8080/",
          "height": 35
        },
        "id": "lM6R1zgUXuOp",
        "outputId": "47188d64-9098-4f32-ee9a-590db3f3da42"
      },
      "source": [
        "str1=\" This is my first python string \"\r\n",
        "str1.upper()"
      ],
      "execution_count": 17,
      "outputs": [
        {
          "output_type": "execute_result",
          "data": {
            "application/vnd.google.colaboratory.intrinsic+json": {
              "type": "string"
            },
            "text/plain": [
              "' THIS IS MY FIRST PYTHON STRING '"
            ]
          },
          "metadata": {
            "tags": []
          },
          "execution_count": 17
        }
      ]
    },
    {
      "cell_type": "code",
      "metadata": {
        "colab": {
          "base_uri": "https://localhost:8080/",
          "height": 35
        },
        "id": "fWOjCYFRX66O",
        "outputId": "f6c044d2-2e36-410b-de6d-9da14a9e034a"
      },
      "source": [
        "str1.upper().lower()"
      ],
      "execution_count": 18,
      "outputs": [
        {
          "output_type": "execute_result",
          "data": {
            "application/vnd.google.colaboratory.intrinsic+json": {
              "type": "string"
            },
            "text/plain": [
              "' this is my first python string '"
            ]
          },
          "metadata": {
            "tags": []
          },
          "execution_count": 18
        }
      ]
    },
    {
      "cell_type": "code",
      "metadata": {
        "colab": {
          "base_uri": "https://localhost:8080/",
          "height": 35
        },
        "id": "Dl_HIzfdY5pO",
        "outputId": "7a9c7400-e786-4970-ed89-81e21b1ab1a3"
      },
      "source": [
        "str1.strip() #removes white space at the begining and end of the string"
      ],
      "execution_count": null,
      "outputs": [
        {
          "output_type": "execute_result",
          "data": {
            "application/vnd.google.colaboratory.intrinsic+json": {
              "type": "string"
            },
            "text/plain": [
              "'This is my first python string'"
            ]
          },
          "metadata": {
            "tags": []
          },
          "execution_count": 145
        }
      ]
    },
    {
      "cell_type": "code",
      "metadata": {
        "colab": {
          "base_uri": "https://localhost:8080/"
        },
        "id": "v7OhCILKY_LR",
        "outputId": "cd0a454a-8f7f-4406-e383-3cac07ceb0a9"
      },
      "source": [
        "print(str1.replace(\"first\", \"second\"))"
      ],
      "execution_count": 19,
      "outputs": [
        {
          "output_type": "stream",
          "text": [
            " This is my second python string \n"
          ],
          "name": "stdout"
        }
      ]
    },
    {
      "cell_type": "code",
      "metadata": {
        "colab": {
          "base_uri": "https://localhost:8080/"
        },
        "id": "TJQ0peAvfOE5",
        "outputId": "a28dc152-9462-4fc1-bb42-d3877bd1b4c0"
      },
      "source": [
        "print(str1)"
      ],
      "execution_count": 20,
      "outputs": [
        {
          "output_type": "stream",
          "text": [
            " This is my first python string \n"
          ],
          "name": "stdout"
        }
      ]
    },
    {
      "cell_type": "code",
      "metadata": {
        "colab": {
          "base_uri": "https://localhost:8080/",
          "height": 185
        },
        "id": "j7jYsyYLfQUs",
        "outputId": "6e952939-f74c-4d68-d4ba-e8b27ce0292b"
      },
      "source": [
        "quantity=2\r\n",
        "str1=\"the number of candies available is \"+str(quantity)"
      ],
      "execution_count": 21,
      "outputs": [
        {
          "output_type": "error",
          "ename": "TypeError",
          "evalue": "ignored",
          "traceback": [
            "\u001b[0;31m---------------------------------------------------------------------------\u001b[0m",
            "\u001b[0;31mTypeError\u001b[0m                                 Traceback (most recent call last)",
            "\u001b[0;32m<ipython-input-21-ddbbbca9da89>\u001b[0m in \u001b[0;36m<module>\u001b[0;34m()\u001b[0m\n\u001b[1;32m      1\u001b[0m \u001b[0mquantity\u001b[0m\u001b[0;34m=\u001b[0m\u001b[0;36m2\u001b[0m\u001b[0;34m\u001b[0m\u001b[0;34m\u001b[0m\u001b[0m\n\u001b[0;32m----> 2\u001b[0;31m \u001b[0mstr1\u001b[0m\u001b[0;34m=\u001b[0m\u001b[0;34m\"the number of candies available is \"\u001b[0m\u001b[0;34m+\u001b[0m\u001b[0mstr\u001b[0m\u001b[0;34m(\u001b[0m\u001b[0mquantity\u001b[0m\u001b[0;34m)\u001b[0m\u001b[0;34m\u001b[0m\u001b[0;34m\u001b[0m\u001b[0m\n\u001b[0m",
            "\u001b[0;31mTypeError\u001b[0m: 'str' object is not callable"
          ]
        }
      ]
    },
    {
      "cell_type": "code",
      "metadata": {
        "id": "juFgqAC1fzCN"
      },
      "source": [
        "k=2"
      ],
      "execution_count": null,
      "outputs": []
    },
    {
      "cell_type": "code",
      "metadata": {
        "colab": {
          "base_uri": "https://localhost:8080/",
          "height": 167
        },
        "id": "fWlQXO3wf-xy",
        "outputId": "a3b25ebc-d32d-4bcc-eb35-4539e9615b24"
      },
      "source": [
        "str(k)"
      ],
      "execution_count": null,
      "outputs": [
        {
          "output_type": "error",
          "ename": "TypeError",
          "evalue": "ignored",
          "traceback": [
            "\u001b[0;31m---------------------------------------------------------------------------\u001b[0m",
            "\u001b[0;31mTypeError\u001b[0m                                 Traceback (most recent call last)",
            "\u001b[0;32m<ipython-input-127-00594fcae11a>\u001b[0m in \u001b[0;36m<module>\u001b[0;34m()\u001b[0m\n\u001b[0;32m----> 1\u001b[0;31m \u001b[0mstr\u001b[0m\u001b[0;34m(\u001b[0m\u001b[0mk\u001b[0m\u001b[0;34m)\u001b[0m\u001b[0;34m\u001b[0m\u001b[0;34m\u001b[0m\u001b[0m\n\u001b[0m",
            "\u001b[0;31mTypeError\u001b[0m: 'str' object is not callable"
          ]
        }
      ]
    },
    {
      "cell_type": "code",
      "metadata": {
        "id": "j8ajcKaiktvu"
      },
      "source": [
        ""
      ],
      "execution_count": null,
      "outputs": []
    }
  ]
}