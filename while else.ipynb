{
  "nbformat": 4,
  "nbformat_minor": 0,
  "metadata": {
    "colab": {
      "name": "Untitled123.ipynb",
      "provenance": [],
      "authorship_tag": "ABX9TyPxcMahKqOn9aa1qIr//9gx",
      "include_colab_link": true
    },
    "kernelspec": {
      "name": "python3",
      "display_name": "Python 3"
    }
  },
  "cells": [
    {
      "cell_type": "markdown",
      "metadata": {
        "id": "view-in-github",
        "colab_type": "text"
      },
      "source": [
        "<a href=\"https://colab.research.google.com/github/pythoncoder100/practice/blob/master/while%20else.ipynb\" target=\"_parent\"><img src=\"https://colab.research.google.com/assets/colab-badge.svg\" alt=\"Open In Colab\"/></a>"
      ]
    },
    {
      "cell_type": "code",
      "metadata": {
        "id": "iGEo9U3ijlvo"
      },
      "source": [
        "iter=1\r\n",
        "n=5\r\n",
        "while(iter<n):\r\n",
        "  print(iter)\r\n",
        "  iter+=1\r\n",
        "else:\r\n",
        "  print(\"Try getting only while block get executed. I bet you cannot!\")"
      ],
      "execution_count": null,
      "outputs": []
    }
  ]
}