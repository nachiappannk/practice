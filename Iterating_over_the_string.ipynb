{
  "nbformat": 4,
  "nbformat_minor": 0,
  "metadata": {
    "colab": {
      "name": "Iterating over the string.ipynb",
      "provenance": [],
      "authorship_tag": "ABX9TyMe7u0LOR4a9/nVYeQvB3V0",
      "include_colab_link": true
    },
    "kernelspec": {
      "name": "python3",
      "display_name": "Python 3"
    }
  },
  "cells": [
    {
      "cell_type": "markdown",
      "metadata": {
        "id": "view-in-github",
        "colab_type": "text"
      },
      "source": [
        "<a href=\"https://colab.research.google.com/github/pythoncoder100/practice/blob/master/Iterating_over_the_string.ipynb\" target=\"_parent\"><img src=\"https://colab.research.google.com/assets/colab-badge.svg\" alt=\"Open In Colab\"/></a>"
      ]
    },
    {
      "cell_type": "code",
      "metadata": {
        "id": "Pwg75MIfida-"
      },
      "source": [
        "new_string=''\r\n",
        "for x in \"sam$ple String$\":\r\n",
        "  if x=='$':\r\n",
        "    continue\r\n",
        "  new_string+=x"
      ],
      "execution_count": 2,
      "outputs": []
    },
    {
      "cell_type": "code",
      "metadata": {
        "colab": {
          "base_uri": "https://localhost:8080/"
        },
        "id": "R93x43z5iphz",
        "outputId": "0a302f89-b1d2-4a14-c80e-e28cd0410df4"
      },
      "source": [
        "print(new_string)"
      ],
      "execution_count": 3,
      "outputs": [
        {
          "output_type": "stream",
          "text": [
            "sample String\n"
          ],
          "name": "stdout"
        }
      ]
    },
    {
      "cell_type": "code",
      "metadata": {
        "id": "eHM6t5pti-TC"
      },
      "source": [
        ""
      ],
      "execution_count": null,
      "outputs": []
    }
  ]
}