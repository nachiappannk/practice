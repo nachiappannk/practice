{
  "nbformat": 4,
  "nbformat_minor": 0,
  "metadata": {
    "colab": {
      "name": "Searching for Substring.ipynb",
      "provenance": [],
      "authorship_tag": "ABX9TyM4t0S7LSV0r8f6WStaUmAm",
      "include_colab_link": true
    },
    "kernelspec": {
      "name": "python3",
      "display_name": "Python 3"
    }
  },
  "cells": [
    {
      "cell_type": "markdown",
      "metadata": {
        "id": "view-in-github",
        "colab_type": "text"
      },
      "source": [
        "<a href=\"https://colab.research.google.com/github/pythoncoder100/practice/blob/master/Searching_for_Substring.ipynb\" target=\"_parent\"><img src=\"https://colab.research.google.com/assets/colab-badge.svg\" alt=\"Open In Colab\"/></a>"
      ]
    },
    {
      "cell_type": "code",
      "metadata": {
        "id": "GHbsXVwRkcIU"
      },
      "source": [
        "str1=\"Plight of animals\"\r\n",
        "print(\"ani\" in str1)\r\n",
        "print(\"ani\" not in str1)"
      ],
      "execution_count": null,
      "outputs": []
    }
  ]
}