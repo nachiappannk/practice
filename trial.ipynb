{
  "nbformat": 4,
  "nbformat_minor": 0,
  "metadata": {
    "colab": {
      "name": "Untitled120.ipynb",
      "provenance": [],
      "authorship_tag": "ABX9TyNQFXfBLtN4no4ZaSlOcY8G",
      "include_colab_link": true
    },
    "kernelspec": {
      "name": "python3",
      "display_name": "Python 3"
    }
  },
  "cells": [
    {
      "cell_type": "markdown",
      "metadata": {
        "id": "view-in-github",
        "colab_type": "text"
      },
      "source": [
        "<a href=\"https://colab.research.google.com/github/pythoncoder100/practice/blob/master/trial.ipynb\" target=\"_parent\"><img src=\"https://colab.research.google.com/assets/colab-badge.svg\" alt=\"Open In Colab\"/></a>"
      ]
    },
    {
      "cell_type": "code",
      "metadata": {
        "id": "jghORn2gaiDB",
        "colab": {
          "base_uri": "https://localhost:8080/"
        },
        "outputId": "2c525cd9-2afc-40e0-a062-96798f73a169"
      },
      "source": [
        "!python --version"
      ],
      "execution_count": 54,
      "outputs": [
        {
          "output_type": "stream",
          "text": [
            "Python 3.7.10\n"
          ],
          "name": "stdout"
        }
      ]
    },
    {
      "cell_type": "code",
      "metadata": {
        "id": "CahZrPVzaiz7",
        "colab": {
          "base_uri": "https://localhost:8080/"
        },
        "outputId": "013f6324-0d5b-4b52-b774-b61c632452da"
      },
      "source": [
        "num=5\r\n",
        "if num%2==0:\r\n",
        "  print(\"number is even\")\r\n",
        "print(\"This line is always printed as it falls outside the if block.\")\r\n"
      ],
      "execution_count": 55,
      "outputs": [
        {
          "output_type": "stream",
          "text": [
            "This line is always printed as it falls outside the if block.\n"
          ],
          "name": "stdout"
        }
      ]
    },
    {
      "cell_type": "code",
      "metadata": {
        "colab": {
          "base_uri": "https://localhost:8080/"
        },
        "id": "Y4uvuilRKF4x",
        "outputId": "7c26c19d-79f1-4a32-c40f-58027b60e57d"
      },
      "source": [
        "num=5\r\n",
        "if num%2==0:\r\n",
        "  print(\"Number entered is even\")\r\n",
        "else:\r\n",
        "  print(\"Number entered is odd\")"
      ],
      "execution_count": 56,
      "outputs": [
        {
          "output_type": "stream",
          "text": [
            "Number entered is odd\n"
          ],
          "name": "stdout"
        }
      ]
    },
    {
      "cell_type": "code",
      "metadata": {
        "colab": {
          "base_uri": "https://localhost:8080/"
        },
        "id": "KsMrzOYuKtCd",
        "outputId": "19017a04-5259-4a2d-a61a-5f66c1727a12"
      },
      "source": [
        "num=6\r\n",
        "if num%2==0:\r\n",
        "  print(\"Number is divisible by 2\")\r\n",
        "elif num%3==0:\r\n",
        "  print(\"Number is divisible by 3\")\r\n",
        "else:\r\n",
        "  print(\"Number is not divisible by 2 and 3\")"
      ],
      "execution_count": 57,
      "outputs": [
        {
          "output_type": "stream",
          "text": [
            "Number is divisible by 2\n"
          ],
          "name": "stdout"
        }
      ]
    },
    {
      "cell_type": "code",
      "metadata": {
        "colab": {
          "base_uri": "https://localhost:8080/"
        },
        "id": "VnpX5rD7LMkg",
        "outputId": "c9af815f-ab06-4fee-be82-6612327f8d7b"
      },
      "source": [
        "num=4\r\n",
        "if num%2==0:\r\n",
        "  print(\"Number is divisible by 2\")\r\n",
        "if num%3==0:\r\n",
        "  print(\"Number is divisible by 3\")\r\n",
        "else:\r\n",
        "  print(\"Number is not divisible by 3\")"
      ],
      "execution_count": 58,
      "outputs": [
        {
          "output_type": "stream",
          "text": [
            "Number is divisible by 2\n",
            "Number is not divisible by 3\n"
          ],
          "name": "stdout"
        }
      ]
    },
    {
      "cell_type": "code",
      "metadata": {
        "colab": {
          "base_uri": "https://localhost:8080/"
        },
        "id": "Udy_L-7wMURk",
        "outputId": "fa74cd23-07bb-4972-cc43-0629ba947de6"
      },
      "source": [
        "num=2\r\n",
        "if num%2==0:\r\n",
        "  print(\"Number entered is even\")\r\n",
        "  if(num==2):\r\n",
        "    print(\"Number is the smallest even number\")\r\n",
        "  else:\r\n",
        "    print(\"number is not the smallest even number\")\r\n",
        "else:\r\n",
        "  print(\"number entered is odd\")"
      ],
      "execution_count": 59,
      "outputs": [
        {
          "output_type": "stream",
          "text": [
            "Number entered is even\n",
            "Number is the smallest even number\n"
          ],
          "name": "stdout"
        }
      ]
    },
    {
      "cell_type": "code",
      "metadata": {
        "colab": {
          "base_uri": "https://localhost:8080/"
        },
        "id": "NQLjPcvvPBRc",
        "outputId": "6d03df83-1ac5-429e-e759-491fd0515188"
      },
      "source": [
        "if num!=0:\r\n",
        "  if num%2==0:\r\n",
        "    print(\"Number entered is even\")\r\n",
        "    if(num==2):\r\n",
        "      print(\"Number is the smallest even number\")\r\n",
        "    else:\r\n",
        "      print(\"number is not the smallest even number\")\r\n",
        "  else:\r\n",
        "    print(\"number entered is odd\")"
      ],
      "execution_count": 65,
      "outputs": [
        {
          "output_type": "stream",
          "text": [
            "number entered is odd\n"
          ],
          "name": "stdout"
        }
      ]
    },
    {
      "cell_type": "code",
      "metadata": {
        "colab": {
          "base_uri": "https://localhost:8080/"
        },
        "id": "fzzKrUhOPlfZ",
        "outputId": "6a0bb15c-9325-4b29-fa12-f741153fa6ac"
      },
      "source": [
        "n=10\r\n",
        "summation=0\r\n",
        "while(n>=0):\r\n",
        "  summation+=n\r\n",
        "  n=n-1\r\n",
        "print(summation)"
      ],
      "execution_count": 70,
      "outputs": [
        {
          "output_type": "stream",
          "text": [
            "55\n"
          ],
          "name": "stdout"
        }
      ]
    },
    {
      "cell_type": "code",
      "metadata": {
        "id": "f_bU_tGGa4Kb",
        "outputId": "a1e0cb79-7c6a-468b-8365-0bf1c7dc7de0",
        "colab": {
          "base_uri": "https://localhost:8080/"
        }
      },
      "source": [
        "i=2\r\n",
        "while(i==2):\r\n",
        "  i=3\r\n",
        "  print(\"The value of i is \"+str(i))\r\n",
        "else:\r\n",
        "  print(\"I am inside else block\")\r\n"
      ],
      "execution_count": 72,
      "outputs": [
        {
          "output_type": "stream",
          "text": [
            "The value of i is 3\n",
            "I am inside else block\n"
          ],
          "name": "stdout"
        }
      ]
    },
    {
      "cell_type": "code",
      "metadata": {
        "id": "kah_owPWyvQx",
        "outputId": "35e18eec-48f6-46a2-f210-515d0a7c627f",
        "colab": {
          "base_uri": "https://localhost:8080/"
        }
      },
      "source": [
        "i=2\r\n",
        "while(i==2):\r\n",
        "  i=3\r\n",
        "  print(\"The value of i is \"+str(i))\r\n",
        "  print(\"I am just about to execute break statement\")\r\n",
        "  break\r\n",
        "else:\r\n",
        "  print(\"I am inside else block\")"
      ],
      "execution_count": 73,
      "outputs": [
        {
          "output_type": "stream",
          "text": [
            "The value of i is 3\n",
            "I am just about to execute break statement\n"
          ],
          "name": "stdout"
        }
      ]
    },
    {
      "cell_type": "code",
      "metadata": {
        "id": "AyBdF5lzy_ck"
      },
      "source": [
        ""
      ],
      "execution_count": null,
      "outputs": []
    }
  ]
}