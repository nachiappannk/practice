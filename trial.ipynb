{
  "nbformat": 4,
  "nbformat_minor": 0,
  "metadata": {
    "colab": {
      "name": "Untitled120.ipynb",
      "provenance": [],
      "authorship_tag": "ABX9TyNvOBVdZzyqSonw10Wkhysi",
      "include_colab_link": true
    },
    "kernelspec": {
      "name": "python3",
      "display_name": "Python 3"
    }
  },
  "cells": [
    {
      "cell_type": "markdown",
      "metadata": {
        "id": "view-in-github",
        "colab_type": "text"
      },
      "source": [
        "<a href=\"https://colab.research.google.com/github/pythoncoder100/practice/blob/master/trial.ipynb\" target=\"_parent\"><img src=\"https://colab.research.google.com/assets/colab-badge.svg\" alt=\"Open In Colab\"/></a>"
      ]
    },
    {
      "cell_type": "code",
      "metadata": {
        "id": "jghORn2gaiDB",
        "colab": {
          "base_uri": "https://localhost:8080/"
        },
        "outputId": "2c525cd9-2afc-40e0-a062-96798f73a169"
      },
      "source": [
        "!python --version"
      ],
      "execution_count": null,
      "outputs": [
        {
          "output_type": "stream",
          "text": [
            "Python 3.7.10\n"
          ],
          "name": "stdout"
        }
      ]
    },
    {
      "cell_type": "code",
      "metadata": {
        "id": "CahZrPVzaiz7",
        "colab": {
          "base_uri": "https://localhost:8080/"
        },
        "outputId": "013f6324-0d5b-4b52-b774-b61c632452da"
      },
      "source": [
        "num=5\r\n",
        "if num%2==0:\r\n",
        "  print(\"number is even\")\r\n",
        "print(\"This line is always printed as it falls outside the if block.\")\r\n"
      ],
      "execution_count": null,
      "outputs": [
        {
          "output_type": "stream",
          "text": [
            "This line is always printed as it falls outside the if block.\n"
          ],
          "name": "stdout"
        }
      ]
    },
    {
      "cell_type": "code",
      "metadata": {
        "colab": {
          "base_uri": "https://localhost:8080/"
        },
        "id": "Y4uvuilRKF4x",
        "outputId": "7c26c19d-79f1-4a32-c40f-58027b60e57d"
      },
      "source": [
        "num=5\r\n",
        "if num%2==0:\r\n",
        "  print(\"Number entered is even\")\r\n",
        "else:\r\n",
        "  print(\"Number entered is odd\")"
      ],
      "execution_count": null,
      "outputs": [
        {
          "output_type": "stream",
          "text": [
            "Number entered is odd\n"
          ],
          "name": "stdout"
        }
      ]
    },
    {
      "cell_type": "code",
      "metadata": {
        "colab": {
          "base_uri": "https://localhost:8080/"
        },
        "id": "KsMrzOYuKtCd",
        "outputId": "19017a04-5259-4a2d-a61a-5f66c1727a12"
      },
      "source": [
        "num=6\r\n",
        "if num%2==0:\r\n",
        "  print(\"Number is divisible by 2\")\r\n",
        "elif num%3==0:\r\n",
        "  print(\"Number is divisible by 3\")\r\n",
        "else:\r\n",
        "  print(\"Number is not divisible by 2 and 3\")"
      ],
      "execution_count": null,
      "outputs": [
        {
          "output_type": "stream",
          "text": [
            "Number is divisible by 2\n"
          ],
          "name": "stdout"
        }
      ]
    },
    {
      "cell_type": "code",
      "metadata": {
        "colab": {
          "base_uri": "https://localhost:8080/"
        },
        "id": "VnpX5rD7LMkg",
        "outputId": "c9af815f-ab06-4fee-be82-6612327f8d7b"
      },
      "source": [
        "num=4\r\n",
        "if num%2==0:\r\n",
        "  print(\"Number is divisible by 2\")\r\n",
        "if num%3==0:\r\n",
        "  print(\"Number is divisible by 3\")\r\n",
        "else:\r\n",
        "  print(\"Number is not divisible by 3\")"
      ],
      "execution_count": null,
      "outputs": [
        {
          "output_type": "stream",
          "text": [
            "Number is divisible by 2\n",
            "Number is not divisible by 3\n"
          ],
          "name": "stdout"
        }
      ]
    },
    {
      "cell_type": "code",
      "metadata": {
        "colab": {
          "base_uri": "https://localhost:8080/"
        },
        "id": "Udy_L-7wMURk",
        "outputId": "fa74cd23-07bb-4972-cc43-0629ba947de6"
      },
      "source": [
        "num=2\r\n",
        "if num%2==0:\r\n",
        "  print(\"Number entered is even\")\r\n",
        "  if(num==2):\r\n",
        "    print(\"Number is the smallest even number\")\r\n",
        "  else:\r\n",
        "    print(\"number is not the smallest even number\")\r\n",
        "else:\r\n",
        "  print(\"number entered is odd\")"
      ],
      "execution_count": null,
      "outputs": [
        {
          "output_type": "stream",
          "text": [
            "Number entered is even\n",
            "Number is the smallest even number\n"
          ],
          "name": "stdout"
        }
      ]
    },
    {
      "cell_type": "code",
      "metadata": {
        "colab": {
          "base_uri": "https://localhost:8080/"
        },
        "id": "NQLjPcvvPBRc",
        "outputId": "6d03df83-1ac5-429e-e759-491fd0515188"
      },
      "source": [
        "if num!=0:\r\n",
        "  if num%2==0:\r\n",
        "    print(\"Number entered is even\")\r\n",
        "    if(num==2):\r\n",
        "      print(\"Number is the smallest even number\")\r\n",
        "    else:\r\n",
        "      print(\"number is not the smallest even number\")\r\n",
        "  else:\r\n",
        "    print(\"number entered is odd\")"
      ],
      "execution_count": null,
      "outputs": [
        {
          "output_type": "stream",
          "text": [
            "number entered is odd\n"
          ],
          "name": "stdout"
        }
      ]
    },
    {
      "cell_type": "code",
      "metadata": {
        "colab": {
          "base_uri": "https://localhost:8080/"
        },
        "id": "fzzKrUhOPlfZ",
        "outputId": "6a0bb15c-9325-4b29-fa12-f741153fa6ac"
      },
      "source": [
        "n=10\r\n",
        "summation=0\r\n",
        "while(n>=0):\r\n",
        "  summation+=n\r\n",
        "  n=n-1\r\n",
        "print(summation)"
      ],
      "execution_count": null,
      "outputs": [
        {
          "output_type": "stream",
          "text": [
            "55\n"
          ],
          "name": "stdout"
        }
      ]
    },
    {
      "cell_type": "code",
      "metadata": {
        "id": "f_bU_tGGa4Kb",
        "colab": {
          "base_uri": "https://localhost:8080/"
        },
        "outputId": "a1e0cb79-7c6a-468b-8365-0bf1c7dc7de0"
      },
      "source": [
        "i=2\r\n",
        "while(i==2):\r\n",
        "  i=3\r\n",
        "  print(\"The value of i is \"+str(i))\r\n",
        "else:\r\n",
        "  print(\"I am inside else block\")\r\n"
      ],
      "execution_count": null,
      "outputs": [
        {
          "output_type": "stream",
          "text": [
            "The value of i is 3\n",
            "I am inside else block\n"
          ],
          "name": "stdout"
        }
      ]
    },
    {
      "cell_type": "code",
      "metadata": {
        "id": "kah_owPWyvQx",
        "colab": {
          "base_uri": "https://localhost:8080/"
        },
        "outputId": "35e18eec-48f6-46a2-f210-515d0a7c627f"
      },
      "source": [
        "i=2\r\n",
        "while(i==2):\r\n",
        "  i=3\r\n",
        "  print(\"The value of i is \"+str(i))\r\n",
        "  print(\"I am just about to execute break statement\")\r\n",
        "  break\r\n",
        "else:\r\n",
        "  print(\"I am inside else block\")"
      ],
      "execution_count": null,
      "outputs": [
        {
          "output_type": "stream",
          "text": [
            "The value of i is 3\n",
            "I am just about to execute break statement\n"
          ],
          "name": "stdout"
        }
      ]
    },
    {
      "cell_type": "code",
      "metadata": {
        "id": "AyBdF5lzy_ck"
      },
      "source": [
        "a=list([12,2,2,45,6])"
      ],
      "execution_count": 76,
      "outputs": []
    },
    {
      "cell_type": "code",
      "metadata": {
        "id": "Vl7qvuNl0MrO",
        "outputId": "c0e9e9ba-cae3-4f7a-dae7-9beafc86b7ca",
        "colab": {
          "base_uri": "https://localhost:8080/"
        }
      },
      "source": [
        "summation=0\r\n",
        "for value in a:\r\n",
        "  summation+=value\r\n",
        "else:\r\n",
        "  print(\"The sum of elements in a list is \"+str(summation))\r\n"
      ],
      "execution_count": 81,
      "outputs": [
        {
          "output_type": "stream",
          "text": [
            "The sum of elements in a list is 67\n"
          ],
          "name": "stdout"
        }
      ]
    },
    {
      "cell_type": "code",
      "metadata": {
        "id": "_NfhidR80OVp",
        "outputId": "8195d4d1-5aa9-4fdc-9657-0b7e46a4b009",
        "colab": {
          "base_uri": "https://localhost:8080/"
        }
      },
      "source": [
        "sequence=list([12,2,2,45,6,83,23,34,45])\r\n",
        "summation=0\r\n",
        "for value in a:\r\n",
        "  summation+=value\r\n",
        "  if (summation>60):\r\n",
        "    print(\"The sum has exceeded 60 and I am going to stop summing with help of break statement\")\r\n",
        "    break\r\n",
        "else:\r\n",
        "  print(\"The sum of elements in a list is \"+str(summation))\r\n"
      ],
      "execution_count": 83,
      "outputs": [
        {
          "output_type": "stream",
          "text": [
            "The sum has exceeded 60 and I am going to stop summing with help of break statement\n"
          ],
          "name": "stdout"
        }
      ]
    },
    {
      "cell_type": "code",
      "metadata": {
        "id": "ZdvRlBnb06lv",
        "outputId": "b975be05-8bef-4414-e8e2-2409fd41e764",
        "colab": {
          "base_uri": "https://localhost:8080/"
        }
      },
      "source": [
        "#python numbers are int,float, complex\r\n",
        "a=4\r\n",
        "type(a)\r\n",
        "print(a)\r\n",
        "id(a)"
      ],
      "execution_count": 96,
      "outputs": [
        {
          "output_type": "stream",
          "text": [
            "4\n"
          ],
          "name": "stdout"
        },
        {
          "output_type": "execute_result",
          "data": {
            "text/plain": [
              "94831485758048"
            ]
          },
          "metadata": {
            "tags": []
          },
          "execution_count": 96
        }
      ]
    },
    {
      "cell_type": "code",
      "metadata": {
        "id": "EF2r42T54BnM",
        "outputId": "6d6a63ad-ab4d-46ff-f66b-65413cb8c96e",
        "colab": {
          "base_uri": "https://localhost:8080/"
        }
      },
      "source": [
        "b=float(4)\r\n",
        "type(b)\r\n",
        "print(b)"
      ],
      "execution_count": 97,
      "outputs": [
        {
          "output_type": "stream",
          "text": [
            "4.0\n"
          ],
          "name": "stdout"
        }
      ]
    },
    {
      "cell_type": "code",
      "metadata": {
        "id": "InouWdOY5Rnm",
        "outputId": "73a43629-87b4-4bcb-95bb-a8efcca01d58",
        "colab": {
          "base_uri": "https://localhost:8080/"
        }
      },
      "source": [
        "c=int(4.2)\r\n",
        "type(c)\r\n",
        "print(c)"
      ],
      "execution_count": 98,
      "outputs": [
        {
          "output_type": "stream",
          "text": [
            "4\n"
          ],
          "name": "stdout"
        }
      ]
    },
    {
      "cell_type": "code",
      "metadata": {
        "id": "f9dmxmIU5XgW"
      },
      "source": [
        "x = 5\r\n",
        "y = 3\r\n",
        "  \r\n",
        "# converting x and y into complex number \r\n",
        "z = complex(x,y); "
      ],
      "execution_count": 99,
      "outputs": []
    },
    {
      "cell_type": "code",
      "metadata": {
        "id": "HwSi-3Y-5pBI",
        "outputId": "cab56044-588b-45d8-ebdf-3e43e07c4c92",
        "colab": {
          "base_uri": "https://localhost:8080/"
        }
      },
      "source": [
        "type(z)\r\n",
        "z"
      ],
      "execution_count": 103,
      "outputs": [
        {
          "output_type": "execute_result",
          "data": {
            "text/plain": [
              "(5+3j)"
            ]
          },
          "metadata": {
            "tags": []
          },
          "execution_count": 103
        }
      ]
    },
    {
      "cell_type": "code",
      "metadata": {
        "id": "oLU4PCqf5qT0",
        "outputId": "ead69c32-5ae6-4d26-b8e5-a0cf07f5d70f",
        "colab": {
          "base_uri": "https://localhost:8080/"
        }
      },
      "source": [
        "type(z)"
      ],
      "execution_count": 104,
      "outputs": [
        {
          "output_type": "execute_result",
          "data": {
            "text/plain": [
              "complex"
            ]
          },
          "metadata": {
            "tags": []
          },
          "execution_count": 104
        }
      ]
    },
    {
      "cell_type": "code",
      "metadata": {
        "id": "2B2nTGf85uE3",
        "outputId": "b186a319-e643-43cd-b695-b92c79e03132",
        "colab": {
          "base_uri": "https://localhost:8080/"
        }
      },
      "source": [
        "sentence=\"this is how you use a string\"\r\n",
        "print(sentence)"
      ],
      "execution_count": 10,
      "outputs": [
        {
          "output_type": "stream",
          "text": [
            "this is how you use a string\n"
          ],
          "name": "stdout"
        }
      ]
    },
    {
      "cell_type": "code",
      "metadata": {
        "id": "DI0ZJvGD6JBW",
        "outputId": "65945c6d-67be-4e9d-8790-0054052fbba5",
        "colab": {
          "base_uri": "https://localhost:8080/"
        }
      },
      "source": [
        "type(sentence)"
      ],
      "execution_count": 3,
      "outputs": [
        {
          "output_type": "execute_result",
          "data": {
            "text/plain": [
              "str"
            ]
          },
          "metadata": {
            "tags": []
          },
          "execution_count": 3
        }
      ]
    },
    {
      "cell_type": "code",
      "metadata": {
        "id": "pKJ5lUnW6Mjx",
        "outputId": "0d6667f8-6ade-48bb-d3a7-a1225c3440fc",
        "colab": {
          "base_uri": "https://localhost:8080/"
        }
      },
      "source": [
        "len(sentence)"
      ],
      "execution_count": 4,
      "outputs": [
        {
          "output_type": "execute_result",
          "data": {
            "text/plain": [
              "28"
            ]
          },
          "metadata": {
            "tags": []
          },
          "execution_count": 4
        }
      ]
    },
    {
      "cell_type": "code",
      "metadata": {
        "id": "BdkCGvjq6OKq"
      },
      "source": [
        "inverted_string=''\r\n",
        "n=len(sentence)-1\r\n",
        "while(n>=0):\r\n",
        "  inverted_string=inverted_string+sentence[n]\r\n",
        "  n=n-1\r\n",
        "print(inverted_string)"
      ],
      "execution_count": 11,
      "outputs": []
    },
    {
      "cell_type": "code",
      "metadata": {
        "id": "znvb0d6E7FAO",
        "outputId": "7e5b56b4-882c-45f5-f3eb-4bba40acf1ad",
        "colab": {
          "base_uri": "https://localhost:8080/"
        }
      },
      "source": [
        "sentence=\"this is how you use a string\"\r\n",
        "inverted_string=''\r\n",
        "n=len(sentence)-1\r\n",
        "while(n>=0):\r\n",
        "  inverted_string=inverted_string+sentence[n]\r\n",
        "  n=n-1\r\n",
        "print(inverted_string)"
      ],
      "execution_count": 13,
      "outputs": [
        {
          "output_type": "stream",
          "text": [
            "gnirts a esu uoy woh si siht\n"
          ],
          "name": "stdout"
        }
      ]
    },
    {
      "cell_type": "code",
      "metadata": {
        "id": "Y96RRyEn7PzZ"
      },
      "source": [
        "sentence='''this is how \r\n",
        "you use a string'''"
      ],
      "execution_count": 18,
      "outputs": []
    },
    {
      "cell_type": "code",
      "metadata": {
        "id": "7cIb-he0_FDY",
        "outputId": "65af7398-5ee3-4c50-a872-6a5add5a5bb8",
        "colab": {
          "base_uri": "https://localhost:8080/"
        }
      },
      "source": [
        "len(sentence)"
      ],
      "execution_count": 19,
      "outputs": [
        {
          "output_type": "execute_result",
          "data": {
            "text/plain": [
              "29"
            ]
          },
          "metadata": {
            "tags": []
          },
          "execution_count": 19
        }
      ]
    },
    {
      "cell_type": "code",
      "metadata": {
        "id": "JaEdbbkX_HSS"
      },
      "source": [
        " c = 2 + 4j"
      ],
      "execution_count": 20,
      "outputs": []
    },
    {
      "cell_type": "code",
      "metadata": {
        "id": "HFkSMe0yBW8W",
        "outputId": "ff2eb938-6fb9-4258-de17-575927c5b320",
        "colab": {
          "base_uri": "https://localhost:8080/"
        }
      },
      "source": [
        "type(c)"
      ],
      "execution_count": 21,
      "outputs": [
        {
          "output_type": "execute_result",
          "data": {
            "text/plain": [
              "complex"
            ]
          },
          "metadata": {
            "tags": []
          },
          "execution_count": 21
        }
      ]
    },
    {
      "cell_type": "code",
      "metadata": {
        "id": "8pxSMFTSBYRc"
      },
      "source": [
        ""
      ],
      "execution_count": null,
      "outputs": []
    }
  ]
}