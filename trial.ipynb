{
  "nbformat": 4,
  "nbformat_minor": 0,
  "metadata": {
    "colab": {
      "name": "Untitled120.ipynb",
      "provenance": [],
      "authorship_tag": "ABX9TyOjfXW6rzmy3P05QLvEsZg2",
      "include_colab_link": true
    },
    "kernelspec": {
      "name": "python3",
      "display_name": "Python 3"
    }
  },
  "cells": [
    {
      "cell_type": "markdown",
      "metadata": {
        "id": "view-in-github",
        "colab_type": "text"
      },
      "source": [
        "<a href=\"https://colab.research.google.com/github/pythoncoder100/practice/blob/master/trial.ipynb\" target=\"_parent\"><img src=\"https://colab.research.google.com/assets/colab-badge.svg\" alt=\"Open In Colab\"/></a>"
      ]
    },
    {
      "cell_type": "code",
      "metadata": {
        "id": "jghORn2gaiDB",
        "outputId": "2c525cd9-2afc-40e0-a062-96798f73a169",
        "colab": {
          "base_uri": "https://localhost:8080/"
        }
      },
      "source": [
        "!python --version"
      ],
      "execution_count": 54,
      "outputs": [
        {
          "output_type": "stream",
          "text": [
            "Python 3.7.10\n"
          ],
          "name": "stdout"
        }
      ]
    },
    {
      "cell_type": "code",
      "metadata": {
        "id": "CahZrPVzaiz7",
        "outputId": "013f6324-0d5b-4b52-b774-b61c632452da",
        "colab": {
          "base_uri": "https://localhost:8080/"
        }
      },
      "source": [
        "num=5\r\n",
        "if num%2==0:\r\n",
        "  print(\"number is even\")\r\n",
        "print(\"This line is always printed as it falls outside the if block.\")\r\n"
      ],
      "execution_count": 55,
      "outputs": [
        {
          "output_type": "stream",
          "text": [
            "This line is always printed as it falls outside the if block.\n"
          ],
          "name": "stdout"
        }
      ]
    },
    {
      "cell_type": "code",
      "metadata": {
        "id": "Y4uvuilRKF4x",
        "outputId": "7c26c19d-79f1-4a32-c40f-58027b60e57d",
        "colab": {
          "base_uri": "https://localhost:8080/"
        }
      },
      "source": [
        "num=5\r\n",
        "if num%2==0:\r\n",
        "  print(\"Number entered is even\")\r\n",
        "else:\r\n",
        "  print(\"Number entered is odd\")"
      ],
      "execution_count": 56,
      "outputs": [
        {
          "output_type": "stream",
          "text": [
            "Number entered is odd\n"
          ],
          "name": "stdout"
        }
      ]
    },
    {
      "cell_type": "code",
      "metadata": {
        "id": "KsMrzOYuKtCd",
        "outputId": "19017a04-5259-4a2d-a61a-5f66c1727a12",
        "colab": {
          "base_uri": "https://localhost:8080/"
        }
      },
      "source": [
        "num=6\r\n",
        "if num%2==0:\r\n",
        "  print(\"Number is divisible by 2\")\r\n",
        "elif num%3==0:\r\n",
        "  print(\"Number is divisible by 3\")\r\n",
        "else:\r\n",
        "  print(\"Number is not divisible by 2 and 3\")"
      ],
      "execution_count": 57,
      "outputs": [
        {
          "output_type": "stream",
          "text": [
            "Number is divisible by 2\n"
          ],
          "name": "stdout"
        }
      ]
    },
    {
      "cell_type": "code",
      "metadata": {
        "id": "VnpX5rD7LMkg",
        "outputId": "c9af815f-ab06-4fee-be82-6612327f8d7b",
        "colab": {
          "base_uri": "https://localhost:8080/"
        }
      },
      "source": [
        "num=4\r\n",
        "if num%2==0:\r\n",
        "  print(\"Number is divisible by 2\")\r\n",
        "if num%3==0:\r\n",
        "  print(\"Number is divisible by 3\")\r\n",
        "else:\r\n",
        "  print(\"Number is not divisible by 3\")"
      ],
      "execution_count": 58,
      "outputs": [
        {
          "output_type": "stream",
          "text": [
            "Number is divisible by 2\n",
            "Number is not divisible by 3\n"
          ],
          "name": "stdout"
        }
      ]
    },
    {
      "cell_type": "code",
      "metadata": {
        "id": "Udy_L-7wMURk",
        "outputId": "fa74cd23-07bb-4972-cc43-0629ba947de6",
        "colab": {
          "base_uri": "https://localhost:8080/"
        }
      },
      "source": [
        "num=2\r\n",
        "if num%2==0:\r\n",
        "  print(\"Number entered is even\")\r\n",
        "  if(num==2):\r\n",
        "    print(\"Number is the smallest even number\")\r\n",
        "  else:\r\n",
        "    print(\"number is not the smallest even number\")\r\n",
        "else:\r\n",
        "  print(\"number entered is odd\")"
      ],
      "execution_count": 59,
      "outputs": [
        {
          "output_type": "stream",
          "text": [
            "Number entered is even\n",
            "Number is the smallest even number\n"
          ],
          "name": "stdout"
        }
      ]
    },
    {
      "cell_type": "code",
      "metadata": {
        "id": "NQLjPcvvPBRc",
        "outputId": "d3335056-d11d-444a-b784-4ffea7d4114e",
        "colab": {
          "base_uri": "https://localhost:8080/"
        }
      },
      "source": [
        "num=5\r\n",
        "if num >= 0:\r\n",
        "    if num == 0:\r\n",
        "        print(\"Zero\")\r\n",
        "    else:\r\n",
        "        print(\"Positive number\")\r\n",
        "else:\r\n",
        "    print(\"Negative number\")"
      ],
      "execution_count": 60,
      "outputs": [
        {
          "output_type": "stream",
          "text": [
            "Positive number\n"
          ],
          "name": "stdout"
        }
      ]
    },
    {
      "cell_type": "code",
      "metadata": {
        "id": "fzzKrUhOPlfZ"
      },
      "source": [
        ""
      ],
      "execution_count": null,
      "outputs": []
    }
  ]
}