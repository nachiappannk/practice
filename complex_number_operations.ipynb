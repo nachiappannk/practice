{
  "nbformat": 4,
  "nbformat_minor": 0,
  "metadata": {
    "colab": {
      "name": "complex number operations.ipynb",
      "provenance": [],
      "authorship_tag": "ABX9TyMFC/10XU/bUft1UDsHFYxD",
      "include_colab_link": true
    },
    "kernelspec": {
      "name": "python3",
      "display_name": "Python 3"
    }
  },
  "cells": [
    {
      "cell_type": "markdown",
      "metadata": {
        "id": "view-in-github",
        "colab_type": "text"
      },
      "source": [
        "<a href=\"https://colab.research.google.com/github/pythoncoder100/practice/blob/master/complex_number_operations.ipynb\" target=\"_parent\"><img src=\"https://colab.research.google.com/assets/colab-badge.svg\" alt=\"Open In Colab\"/></a>"
      ]
    },
    {
      "cell_type": "code",
      "metadata": {
        "id": "C-dvACY9TCAI"
      },
      "source": [
        "\r\n",
        "x = 5\r\n",
        "y = 3\r\n",
        "# converting x and y into complex number \r\n",
        "z1 = complex(x,y); \r\n",
        "z2 = 2 + 4j\r\n"
      ],
      "execution_count": 11,
      "outputs": []
    },
    {
      "cell_type": "code",
      "metadata": {
        "colab": {
          "base_uri": "https://localhost:8080/"
        },
        "id": "0VlXhL20TJaK",
        "outputId": "39ebc0ab-74d3-401a-a5d3-99160d154bd9"
      },
      "source": [
        "print(z1+z2)\r\n"
      ],
      "execution_count": 12,
      "outputs": [
        {
          "output_type": "stream",
          "text": [
            "(7+7j)\n"
          ],
          "name": "stdout"
        }
      ]
    },
    {
      "cell_type": "code",
      "metadata": {
        "colab": {
          "base_uri": "https://localhost:8080/"
        },
        "id": "k6XqLsRlTOSJ",
        "outputId": "1e27a148-d156-4500-dc4a-27ced90b73d7"
      },
      "source": [
        "print(z1-z2)"
      ],
      "execution_count": 13,
      "outputs": [
        {
          "output_type": "stream",
          "text": [
            "(3-1j)\n"
          ],
          "name": "stdout"
        }
      ]
    },
    {
      "cell_type": "code",
      "metadata": {
        "colab": {
          "base_uri": "https://localhost:8080/"
        },
        "id": "WhDd5q9BTQqz",
        "outputId": "1e38c953-4562-4211-ddc1-d2795ccbc997"
      },
      "source": [
        "print(z1*z2)"
      ],
      "execution_count": 14,
      "outputs": [
        {
          "output_type": "stream",
          "text": [
            "(-2+26j)\n"
          ],
          "name": "stdout"
        }
      ]
    },
    {
      "cell_type": "code",
      "metadata": {
        "colab": {
          "base_uri": "https://localhost:8080/"
        },
        "id": "gVn55nTUTSj-",
        "outputId": "8e3f5246-8340-4b5a-b261-35a0f474df6d"
      },
      "source": [
        "print(z1/z2)"
      ],
      "execution_count": 15,
      "outputs": [
        {
          "output_type": "stream",
          "text": [
            "(1.1-0.7j)\n"
          ],
          "name": "stdout"
        }
      ]
    },
    {
      "cell_type": "code",
      "metadata": {
        "colab": {
          "base_uri": "https://localhost:8080/"
        },
        "id": "RE6fxZKGTVRh",
        "outputId": "377e7766-c279-44f5-d11b-ac1cd9ae289c"
      },
      "source": [
        "print(z1**z2)"
      ],
      "execution_count": 16,
      "outputs": [
        {
          "output_type": "stream",
          "text": [
            "(-1.0802025771521078+3.762488118364735j)\n"
          ],
          "name": "stdout"
        }
      ]
    },
    {
      "cell_type": "code",
      "metadata": {
        "id": "jOJfiKpPTpYq"
      },
      "source": [
        ""
      ],
      "execution_count": null,
      "outputs": []
    },
    {
      "cell_type": "code",
      "metadata": {
        "colab": {
          "base_uri": "https://localhost:8080/"
        },
        "id": "gkXvdQGDTXeg",
        "outputId": "b3416fde-1b54-4e93-c5af-03afa337e3a2"
      },
      "source": [
        "print(z1.real)\r\n",
        "print(z1.imag)\r\n"
      ],
      "execution_count": 9,
      "outputs": [
        {
          "output_type": "stream",
          "text": [
            "5.0\n",
            "3.0\n"
          ],
          "name": "stdout"
        }
      ]
    },
    {
      "cell_type": "code",
      "metadata": {
        "colab": {
          "base_uri": "https://localhost:8080/"
        },
        "id": "AqfcVk1HTqaS",
        "outputId": "8140ec5c-8513-4f98-e4d4-0e0efb4dff92"
      },
      "source": [
        "import cmath\r\n",
        "print (cmath.phase(0.707+0.707j)) #45 degress in radians"
      ],
      "execution_count": 10,
      "outputs": [
        {
          "output_type": "stream",
          "text": [
            "0.7853981633974483\n"
          ],
          "name": "stdout"
        }
      ]
    },
    {
      "cell_type": "code",
      "metadata": {
        "id": "UQHgJvtvTuM2"
      },
      "source": [
        ""
      ],
      "execution_count": null,
      "outputs": []
    }
  ]
}