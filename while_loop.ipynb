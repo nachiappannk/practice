{
  "nbformat": 4,
  "nbformat_minor": 0,
  "metadata": {
    "colab": {
      "name": "while loop.ipynb",
      "provenance": [],
      "authorship_tag": "ABX9TyPSfta4h7hEMa3V8TzZGOFb",
      "include_colab_link": true
    },
    "kernelspec": {
      "name": "python3",
      "display_name": "Python 3"
    }
  },
  "cells": [
    {
      "cell_type": "markdown",
      "metadata": {
        "id": "view-in-github",
        "colab_type": "text"
      },
      "source": [
        "<a href=\"https://colab.research.google.com/github/pythoncoder100/practice/blob/master/while_loop.ipynb\" target=\"_parent\"><img src=\"https://colab.research.google.com/assets/colab-badge.svg\" alt=\"Open In Colab\"/></a>"
      ]
    },
    {
      "cell_type": "code",
      "metadata": {
        "id": "4IASSJW5eynO"
      },
      "source": [
        "n=10\r\n",
        "iter=1\r\n",
        "while(iter<n):\r\n",
        "  print(n)\r\n"
      ],
      "execution_count": null,
      "outputs": []
    }
  ]
}