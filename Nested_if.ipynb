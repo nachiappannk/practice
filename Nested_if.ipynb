{
  "nbformat": 4,
  "nbformat_minor": 0,
  "metadata": {
    "colab": {
      "name": "Nested if.ipynb",
      "provenance": [],
      "authorship_tag": "ABX9TyPCT+G3QS6t7WQAXyf45g6e",
      "include_colab_link": true
    },
    "kernelspec": {
      "name": "python3",
      "display_name": "Python 3"
    }
  },
  "cells": [
    {
      "cell_type": "markdown",
      "metadata": {
        "id": "view-in-github",
        "colab_type": "text"
      },
      "source": [
        "<a href=\"https://colab.research.google.com/github/pythoncoder100/practice/blob/master/Nested_if.ipynb\" target=\"_parent\"><img src=\"https://colab.research.google.com/assets/colab-badge.svg\" alt=\"Open In Colab\"/></a>"
      ]
    },
    {
      "cell_type": "code",
      "metadata": {
        "colab": {
          "base_uri": "https://localhost:8080/"
        },
        "id": "2O7fehqkWjsN",
        "outputId": "60fda629-9e3d-47f3-dea4-cf6f129d0f43"
      },
      "source": [
        "num=4\r\n",
        "if num!=0:\r\n",
        "  if num>0:\r\n",
        "    print(\"The number is greater than 0\")\r\n",
        "  else:\r\n",
        "    print(\"The number is less than 0\")"
      ],
      "execution_count": 1,
      "outputs": [
        {
          "output_type": "stream",
          "text": [
            "The number is greater than 0\n"
          ],
          "name": "stdout"
        }
      ]
    },
    {
      "cell_type": "code",
      "metadata": {
        "id": "A6AMt4SwW61D"
      },
      "source": [
        ""
      ],
      "execution_count": null,
      "outputs": []
    }
  ]
}