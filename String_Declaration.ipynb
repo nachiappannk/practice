{
  "nbformat": 4,
  "nbformat_minor": 0,
  "metadata": {
    "colab": {
      "name": "String Declaration.ipynb",
      "provenance": [],
      "authorship_tag": "ABX9TyNDdkmoHScif+t/0CTkRImP",
      "include_colab_link": true
    },
    "kernelspec": {
      "name": "python3",
      "display_name": "Python 3"
    }
  },
  "cells": [
    {
      "cell_type": "markdown",
      "metadata": {
        "id": "view-in-github",
        "colab_type": "text"
      },
      "source": [
        "<a href=\"https://colab.research.google.com/github/pythoncoder100/practice/blob/master/String_Declaration.ipynb\" target=\"_parent\"><img src=\"https://colab.research.google.com/assets/colab-badge.svg\" alt=\"Open In Colab\"/></a>"
      ]
    },
    {
      "cell_type": "code",
      "metadata": {
        "colab": {
          "base_uri": "https://localhost:8080/"
        },
        "id": "uJtjY2KVdRUO",
        "outputId": "916b5903-6f83-4187-8b29-3ff0a05cdeca"
      },
      "source": [
        "str1='This is my first string'\r\n",
        "type(str1)\r\n",
        "len(str1)"
      ],
      "execution_count": 1,
      "outputs": [
        {
          "output_type": "execute_result",
          "data": {
            "text/plain": [
              "23"
            ]
          },
          "metadata": {
            "tags": []
          },
          "execution_count": 1
        }
      ]
    },
    {
      "cell_type": "code",
      "metadata": {
        "colab": {
          "base_uri": "https://localhost:8080/"
        },
        "id": "_lefsX3zeIoZ",
        "outputId": "556a7804-fe23-4fb2-d1ca-022b807a4254"
      },
      "source": [
        "str2=\"This is my second string\"\r\n",
        "type(str2)\r\n",
        "len(str2)"
      ],
      "execution_count": 3,
      "outputs": [
        {
          "output_type": "execute_result",
          "data": {
            "text/plain": [
              "24"
            ]
          },
          "metadata": {
            "tags": []
          },
          "execution_count": 3
        }
      ]
    },
    {
      "cell_type": "code",
      "metadata": {
        "colab": {
          "base_uri": "https://localhost:8080/"
        },
        "id": "90KI3N5ceTy6",
        "outputId": "d1910beb-5a1d-4bfb-a40b-081a541e8faa"
      },
      "source": [
        "str3='''This is my third\r\n",
        "       string'''\r\n",
        "type(str3)\r\n",
        "len(str3)"
      ],
      "execution_count": 4,
      "outputs": [
        {
          "output_type": "execute_result",
          "data": {
            "text/plain": [
              "32"
            ]
          },
          "metadata": {
            "tags": []
          },
          "execution_count": 4
        }
      ]
    },
    {
      "cell_type": "code",
      "metadata": {
        "colab": {
          "base_uri": "https://localhost:8080/"
        },
        "id": "A35RuHVFehe4",
        "outputId": "5c16e532-e4e5-48c3-d456-6be892fbcdfd"
      },
      "source": [
        "print(str3)"
      ],
      "execution_count": 5,
      "outputs": [
        {
          "output_type": "stream",
          "text": [
            "This is my second \n",
            "       string\n"
          ],
          "name": "stdout"
        }
      ]
    },
    {
      "cell_type": "code",
      "metadata": {
        "id": "xkqnbX2Pejo1"
      },
      "source": [
        ""
      ],
      "execution_count": null,
      "outputs": []
    }
  ]
}