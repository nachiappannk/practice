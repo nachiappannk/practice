{
  "nbformat": 4,
  "nbformat_minor": 0,
  "metadata": {
    "colab": {
      "name": "elif.ipynb",
      "provenance": [],
      "authorship_tag": "ABX9TyPpFsS16iVj8fsV/z9hYhZ2",
      "include_colab_link": true
    },
    "kernelspec": {
      "name": "python3",
      "display_name": "Python 3"
    }
  },
  "cells": [
    {
      "cell_type": "markdown",
      "metadata": {
        "id": "view-in-github",
        "colab_type": "text"
      },
      "source": [
        "<a href=\"https://colab.research.google.com/github/pythoncoder100/practice/blob/master/elif.ipynb\" target=\"_parent\"><img src=\"https://colab.research.google.com/assets/colab-badge.svg\" alt=\"Open In Colab\"/></a>"
      ]
    },
    {
      "cell_type": "code",
      "metadata": {
        "colab": {
          "base_uri": "https://localhost:8080/"
        },
        "id": "VxV3wg4ZKxdP",
        "outputId": "c582476b-4031-480e-c3e5-4cca8f939dae"
      },
      "source": [
        "num=0\r\n",
        "if num==0:\r\n",
        "  print(\"Number is zero\")\r\n",
        "elif num%2==0:\r\n",
        "  print(\"Number is divisible by 2\")"
      ],
      "execution_count": 1,
      "outputs": [
        {
          "output_type": "stream",
          "text": [
            "Number is zero\n"
          ],
          "name": "stdout"
        }
      ]
    },
    {
      "cell_type": "code",
      "metadata": {
        "id": "ivTW7YtTK8sb"
      },
      "source": [
        ""
      ],
      "execution_count": null,
      "outputs": []
    }
  ]
}