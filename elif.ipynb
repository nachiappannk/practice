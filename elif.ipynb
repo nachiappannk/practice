{
  "nbformat": 4,
  "nbformat_minor": 0,
  "metadata": {
    "colab": {
      "name": "elif.ipynb",
      "provenance": [],
      "authorship_tag": "ABX9TyNf66Hcd8W8Rqy1UmE4xelu",
      "include_colab_link": true
    },
    "kernelspec": {
      "name": "python3",
      "display_name": "Python 3"
    }
  },
  "cells": [
    {
      "cell_type": "markdown",
      "metadata": {
        "id": "view-in-github",
        "colab_type": "text"
      },
      "source": [
        "<a href=\"https://colab.research.google.com/github/pythoncoder100/practice/blob/master/elif.ipynb\" target=\"_parent\"><img src=\"https://colab.research.google.com/assets/colab-badge.svg\" alt=\"Open In Colab\"/></a>"
      ]
    },
    {
      "cell_type": "code",
      "metadata": {
        "colab": {
          "base_uri": "https://localhost:8080/"
        },
        "id": "VxV3wg4ZKxdP",
        "outputId": "a5ea803a-01f3-4897-a737-a3efb50bfe4a"
      },
      "source": [
        "num=0\r\n",
        "if num==0:\r\n",
        "  print(\"Number is zero\")\r\n",
        "elif num>0:\r\n",
        "  print(\"Number is greater than 0\")"
      ],
      "execution_count": 1,
      "outputs": [
        {
          "output_type": "stream",
          "text": [
            "Number is zero\n"
          ],
          "name": "stdout"
        }
      ]
    },
    {
      "cell_type": "code",
      "metadata": {
        "id": "ivTW7YtTK8sb",
        "colab": {
          "base_uri": "https://localhost:8080/"
        },
        "outputId": "058a91d2-2401-4b06-92f5-59ed7dbcbf60"
      },
      "source": [
        "num=0\r\n",
        "if num==0:\r\n",
        "  print(\"Number is zero\")\r\n",
        "elif num>0:\r\n",
        "  print(\"Number is greater than 0\")\r\n",
        "else:\r\n",
        "  print(\"Number is less than 0\")"
      ],
      "execution_count": 2,
      "outputs": [
        {
          "output_type": "stream",
          "text": [
            "Number is zero\n"
          ],
          "name": "stdout"
        }
      ]
    },
    {
      "cell_type": "code",
      "metadata": {
        "id": "wQhDa-H4TfG9"
      },
      "source": [
        ""
      ],
      "execution_count": null,
      "outputs": []
    }
  ]
}