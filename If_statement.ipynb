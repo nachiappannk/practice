{
  "nbformat": 4,
  "nbformat_minor": 0,
  "metadata": {
    "colab": {
      "name": "If statement.ipynb",
      "provenance": [],
      "authorship_tag": "ABX9TyP6Z1a9WhO0Z4HsQjeMw2Wa",
      "include_colab_link": true
    },
    "kernelspec": {
      "name": "python3",
      "display_name": "Python 3"
    }
  },
  "cells": [
    {
      "cell_type": "markdown",
      "metadata": {
        "id": "view-in-github",
        "colab_type": "text"
      },
      "source": [
        "<a href=\"https://colab.research.google.com/github/pythoncoder100/practice/blob/master/If_statement.ipynb\" target=\"_parent\"><img src=\"https://colab.research.google.com/assets/colab-badge.svg\" alt=\"Open In Colab\"/></a>"
      ]
    },
    {
      "cell_type": "code",
      "metadata": {
        "id": "uSurRSje-6Cy"
      },
      "source": [
        "num=5\r\n",
        "if num%2==0:\r\n",
        "  print(\"number is even\")\r\n",
        "print(\"This line is always printed as it falls outside the if block.\")"
      ],
      "execution_count": null,
      "outputs": []
    }
  ]
}