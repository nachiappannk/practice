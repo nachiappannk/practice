{
  "nbformat": 4,
  "nbformat_minor": 0,
  "metadata": {
    "colab": {
      "name": "slicing the string.ipynb",
      "provenance": [],
      "authorship_tag": "ABX9TyMHvVCH7Ht3rtpvTYEpjSOl",
      "include_colab_link": true
    },
    "kernelspec": {
      "name": "python3",
      "display_name": "Python 3"
    }
  },
  "cells": [
    {
      "cell_type": "markdown",
      "metadata": {
        "id": "view-in-github",
        "colab_type": "text"
      },
      "source": [
        "<a href=\"https://colab.research.google.com/github/pythoncoder100/practice/blob/master/slicing_the_string.ipynb\" target=\"_parent\"><img src=\"https://colab.research.google.com/assets/colab-badge.svg\" alt=\"Open In Colab\"/></a>"
      ]
    },
    {
      "cell_type": "code",
      "metadata": {
        "colab": {
          "base_uri": "https://localhost:8080/"
        },
        "id": "RKvdUlhwpQpL",
        "outputId": "d03a1609-5cea-48c2-94de-25d701e23c9c"
      },
      "source": [
        "str1=\"abcdefgh\"\r\n",
        "modified_str=str1[:7] #upto 5th character \r\n",
        "print(modified_str)"
      ],
      "execution_count": 6,
      "outputs": [
        {
          "output_type": "stream",
          "text": [
            "abcdefg\n"
          ],
          "name": "stdout"
        }
      ]
    },
    {
      "cell_type": "code",
      "metadata": {
        "colab": {
          "base_uri": "https://localhost:8080/"
        },
        "id": "Rrw1CiIrpRxw",
        "outputId": "b0e4c788-0de8-4b3b-c2c3-cebc49157744"
      },
      "source": [
        "\r\n",
        "print(str1[1:7])"
      ],
      "execution_count": 7,
      "outputs": [
        {
          "output_type": "stream",
          "text": [
            "bcdefg\n"
          ],
          "name": "stdout"
        }
      ]
    },
    {
      "cell_type": "code",
      "metadata": {
        "colab": {
          "base_uri": "https://localhost:8080/"
        },
        "id": "4qutbs3sr9lI",
        "outputId": "80aa37b5-b4c2-403a-a780-a4b82d390065"
      },
      "source": [
        "\r\n",
        "print(str1[:-1])"
      ],
      "execution_count": 8,
      "outputs": [
        {
          "output_type": "stream",
          "text": [
            "abcdefg\n"
          ],
          "name": "stdout"
        }
      ]
    },
    {
      "cell_type": "code",
      "metadata": {
        "colab": {
          "base_uri": "https://localhost:8080/"
        },
        "id": "qxx0kgSXsAgi",
        "outputId": "448376a7-7f4d-4796-e260-1580514eb9fc"
      },
      "source": [
        "print(str1[0:7:2])"
      ],
      "execution_count": 9,
      "outputs": [
        {
          "output_type": "stream",
          "text": [
            "aceg\n"
          ],
          "name": "stdout"
        }
      ]
    },
    {
      "cell_type": "code",
      "metadata": {
        "colab": {
          "base_uri": "https://localhost:8080/"
        },
        "id": "o27by8MKsFte",
        "outputId": "60869b11-ebd6-4c2b-de61-f82935a758c0"
      },
      "source": [
        "#simple reversing the string\r\n",
        "print(str1[len(str1)-1::-1])"
      ],
      "execution_count": 17,
      "outputs": [
        {
          "output_type": "stream",
          "text": [
            "hgfedcba\n"
          ],
          "name": "stdout"
        }
      ]
    },
    {
      "cell_type": "code",
      "metadata": {
        "id": "9u88D1UdsH3i"
      },
      "source": [
        ""
      ],
      "execution_count": null,
      "outputs": []
    }
  ]
}