{
  "nbformat": 4,
  "nbformat_minor": 0,
  "metadata": {
    "colab": {
      "name": "rect to polar and vice versa.ipynb",
      "provenance": [],
      "authorship_tag": "ABX9TyMKBeYx8qkCHi02VkRvv4Pb",
      "include_colab_link": true
    },
    "kernelspec": {
      "name": "python3",
      "display_name": "Python 3"
    }
  },
  "cells": [
    {
      "cell_type": "markdown",
      "metadata": {
        "id": "view-in-github",
        "colab_type": "text"
      },
      "source": [
        "<a href=\"https://colab.research.google.com/github/pythoncoder100/practice/blob/master/rect_to_polar_and_vice_versa.ipynb\" target=\"_parent\"><img src=\"https://colab.research.google.com/assets/colab-badge.svg\" alt=\"Open In Colab\"/></a>"
      ]
    },
    {
      "cell_type": "code",
      "metadata": {
        "colab": {
          "base_uri": "https://localhost:8080/"
        },
        "id": "US9w4j6SUcBx",
        "outputId": "77a1fac7-c604-4ee6-b8f2-ae0727f6d68b"
      },
      "source": [
        "import cmath\r\n",
        "z=1+1j\r\n",
        "w = cmath.polar(z) \r\n",
        "print(w)\r\n",
        "type(w)"
      ],
      "execution_count": 1,
      "outputs": [
        {
          "output_type": "stream",
          "text": [
            "(1.4142135623730951, 0.7853981633974483)\n"
          ],
          "name": "stdout"
        },
        {
          "output_type": "execute_result",
          "data": {
            "text/plain": [
              "tuple"
            ]
          },
          "metadata": {
            "tags": []
          },
          "execution_count": 1
        }
      ]
    },
    {
      "cell_type": "code",
      "metadata": {
        "colab": {
          "base_uri": "https://localhost:8080/"
        },
        "id": "3qftlgJVUlbh",
        "outputId": "225db19a-a862-43f1-c9b3-9eb5521b10fd"
      },
      "source": [
        "w1= cmath.rect(1.4142135623730951, 0.7853981633974483) \r\n",
        "print(w1)"
      ],
      "execution_count": 2,
      "outputs": [
        {
          "output_type": "stream",
          "text": [
            "(1.0000000000000002+1j)\n"
          ],
          "name": "stdout"
        }
      ]
    },
    {
      "cell_type": "code",
      "metadata": {
        "id": "OjAbXtD5U2Gv"
      },
      "source": [
        ""
      ],
      "execution_count": null,
      "outputs": []
    }
  ]
}